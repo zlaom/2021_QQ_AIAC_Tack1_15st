{
 "cells": [
  {
   "cell_type": "code",
   "execution_count": 1,
   "source": [
    "import pandas as pd\n",
    "import re\n",
    "import numpy as np\n",
    "pd.set_option('display.float_format', lambda x: '%.3f' % x)"
   ],
   "outputs": [],
   "metadata": {}
  },
  {
   "cell_type": "markdown",
   "source": [
    "# 读pointerwise数据"
   ],
   "metadata": {}
  },
  {
   "cell_type": "code",
   "execution_count": 14,
   "source": [
    "def from_np_array(array_string):\n",
    "  array_string = re.sub(r\"[[\\]]\", \"\", array_string)\n",
    "  return np.array(array_string.split(), dtype=np.int32)"
   ],
   "outputs": [],
   "metadata": {}
  },
  {
   "cell_type": "code",
   "execution_count": 15,
   "source": [
    "pointewise_count_info = pd.read_csv('result/pointwise_count_info.csv',\n",
    "                  converters={\n",
    "                      'tag_id': from_np_array,\n",
    "                  }\n",
    ")"
   ],
   "outputs": [],
   "metadata": {}
  },
  {
   "cell_type": "code",
   "execution_count": 16,
   "source": [
    "pointewise_count_info.head()"
   ],
   "outputs": [
    {
     "output_type": "execute_result",
     "data": {
      "text/html": [
       "<div>\n",
       "<style scoped>\n",
       "    .dataframe tbody tr th:only-of-type {\n",
       "        vertical-align: middle;\n",
       "    }\n",
       "\n",
       "    .dataframe tbody tr th {\n",
       "        vertical-align: top;\n",
       "    }\n",
       "\n",
       "    .dataframe thead th {\n",
       "        text-align: right;\n",
       "    }\n",
       "</style>\n",
       "<table border=\"1\" class=\"dataframe\">\n",
       "  <thead>\n",
       "    <tr style=\"text-align: right;\">\n",
       "      <th></th>\n",
       "      <th>id</th>\n",
       "      <th>file_id</th>\n",
       "      <th>start_offset</th>\n",
       "      <th>end_offset</th>\n",
       "      <th>num_frame</th>\n",
       "      <th>title_len</th>\n",
       "      <th>asr_len</th>\n",
       "      <th>tag_id</th>\n",
       "      <th>category_id</th>\n",
       "      <th>level1_category</th>\n",
       "      <th>level2_category</th>\n",
       "    </tr>\n",
       "  </thead>\n",
       "  <tbody>\n",
       "    <tr>\n",
       "      <th>0</th>\n",
       "      <td>1390439077689456046</td>\n",
       "      <td>0</td>\n",
       "      <td>0</td>\n",
       "      <td>31098.000</td>\n",
       "      <td>10</td>\n",
       "      <td>28</td>\n",
       "      <td>32</td>\n",
       "      <td>[90253, 90130, 800001412, 697404, 5199144]</td>\n",
       "      <td>10106</td>\n",
       "      <td>101</td>\n",
       "      <td>6</td>\n",
       "    </tr>\n",
       "    <tr>\n",
       "      <th>1</th>\n",
       "      <td>3840388963883208110</td>\n",
       "      <td>0</td>\n",
       "      <td>31098</td>\n",
       "      <td>52861.000</td>\n",
       "      <td>7</td>\n",
       "      <td>10</td>\n",
       "      <td>32</td>\n",
       "      <td>[800001783, 101810, 55754190, 56039974]</td>\n",
       "      <td>10503</td>\n",
       "      <td>105</td>\n",
       "      <td>3</td>\n",
       "    </tr>\n",
       "    <tr>\n",
       "      <th>2</th>\n",
       "      <td>8650234087955346810</td>\n",
       "      <td>0</td>\n",
       "      <td>52861</td>\n",
       "      <td>102291.000</td>\n",
       "      <td>16</td>\n",
       "      <td>16</td>\n",
       "      <td>8</td>\n",
       "      <td>[1354564, 102674, 568971, 676446]</td>\n",
       "      <td>11804</td>\n",
       "      <td>118</td>\n",
       "      <td>4</td>\n",
       "    </tr>\n",
       "    <tr>\n",
       "      <th>3</th>\n",
       "      <td>8587184304183952814</td>\n",
       "      <td>0</td>\n",
       "      <td>102291</td>\n",
       "      <td>148654.000</td>\n",
       "      <td>15</td>\n",
       "      <td>19</td>\n",
       "      <td>5</td>\n",
       "      <td>[476319, 800000950, 5872120, 9504442]</td>\n",
       "      <td>10401</td>\n",
       "      <td>104</td>\n",
       "      <td>1</td>\n",
       "    </tr>\n",
       "    <tr>\n",
       "      <th>4</th>\n",
       "      <td>2192073830832893306</td>\n",
       "      <td>0</td>\n",
       "      <td>148654</td>\n",
       "      <td>198191.000</td>\n",
       "      <td>16</td>\n",
       "      <td>16</td>\n",
       "      <td>40</td>\n",
       "      <td>[630273, 800000501, 762563, 558968, 55817157]</td>\n",
       "      <td>11703</td>\n",
       "      <td>117</td>\n",
       "      <td>3</td>\n",
       "    </tr>\n",
       "  </tbody>\n",
       "</table>\n",
       "</div>"
      ],
      "text/plain": [
       "                    id  file_id  start_offset  end_offset  num_frame  \\\n",
       "0  1390439077689456046        0             0   31098.000         10   \n",
       "1  3840388963883208110        0         31098   52861.000          7   \n",
       "2  8650234087955346810        0         52861  102291.000         16   \n",
       "3  8587184304183952814        0        102291  148654.000         15   \n",
       "4  2192073830832893306        0        148654  198191.000         16   \n",
       "\n",
       "   title_len  asr_len                                         tag_id  \\\n",
       "0         28       32     [90253, 90130, 800001412, 697404, 5199144]   \n",
       "1         10       32        [800001783, 101810, 55754190, 56039974]   \n",
       "2         16        8              [1354564, 102674, 568971, 676446]   \n",
       "3         19        5          [476319, 800000950, 5872120, 9504442]   \n",
       "4         16       40  [630273, 800000501, 762563, 558968, 55817157]   \n",
       "\n",
       "   category_id  level1_category  level2_category  \n",
       "0        10106              101                6  \n",
       "1        10503              105                3  \n",
       "2        11804              118                4  \n",
       "3        10401              104                1  \n",
       "4        11703              117                3  "
      ]
     },
     "metadata": {},
     "execution_count": 16
    }
   ],
   "metadata": {}
  },
  {
   "cell_type": "code",
   "execution_count": 21,
   "source": [
    "parwise_count_info = pd.read_csv('result/pairwise_count_info.csv')\n",
    "parwise_count_info"
   ],
   "outputs": [
    {
     "output_type": "execute_result",
     "data": {
      "text/html": [
       "<div>\n",
       "<style scoped>\n",
       "    .dataframe tbody tr th:only-of-type {\n",
       "        vertical-align: middle;\n",
       "    }\n",
       "\n",
       "    .dataframe tbody tr th {\n",
       "        vertical-align: top;\n",
       "    }\n",
       "\n",
       "    .dataframe thead th {\n",
       "        text-align: right;\n",
       "    }\n",
       "</style>\n",
       "<table border=\"1\" class=\"dataframe\">\n",
       "  <thead>\n",
       "    <tr style=\"text-align: right;\">\n",
       "      <th></th>\n",
       "      <th>id</th>\n",
       "      <th>file_id</th>\n",
       "      <th>start_offset</th>\n",
       "      <th>end_offset</th>\n",
       "      <th>num_frame</th>\n",
       "      <th>title_len</th>\n",
       "      <th>asr_len</th>\n",
       "      <th>tag_id</th>\n",
       "      <th>category_id</th>\n",
       "      <th>level1_category</th>\n",
       "      <th>level2_category</th>\n",
       "    </tr>\n",
       "  </thead>\n",
       "  <tbody>\n",
       "    <tr>\n",
       "      <th>0</th>\n",
       "      <td>2345203561710400875</td>\n",
       "      <td>0</td>\n",
       "      <td>0</td>\n",
       "      <td>77241.000</td>\n",
       "      <td>25</td>\n",
       "      <td>28</td>\n",
       "      <td>35</td>\n",
       "      <td>[   81774  9779785 55860984  9597678 55755306 ...</td>\n",
       "      <td>10802</td>\n",
       "      <td>108</td>\n",
       "      <td>2</td>\n",
       "    </tr>\n",
       "    <tr>\n",
       "      <th>1</th>\n",
       "      <td>5344606281729891758</td>\n",
       "      <td>0</td>\n",
       "      <td>77241</td>\n",
       "      <td>133078.000</td>\n",
       "      <td>18</td>\n",
       "      <td>28</td>\n",
       "      <td>75</td>\n",
       "      <td>[   81774   723622 56044756 55831581 55860907 ...</td>\n",
       "      <td>10802</td>\n",
       "      <td>108</td>\n",
       "      <td>2</td>\n",
       "    </tr>\n",
       "    <tr>\n",
       "      <th>2</th>\n",
       "      <td>759945328762912122</td>\n",
       "      <td>0</td>\n",
       "      <td>133078</td>\n",
       "      <td>161005.000</td>\n",
       "      <td>9</td>\n",
       "      <td>23</td>\n",
       "      <td>7</td>\n",
       "      <td>[  751495   503895 13664258   643902]</td>\n",
       "      <td>11418</td>\n",
       "      <td>114</td>\n",
       "      <td>18</td>\n",
       "    </tr>\n",
       "    <tr>\n",
       "      <th>3</th>\n",
       "      <td>5560784129870034298</td>\n",
       "      <td>0</td>\n",
       "      <td>161005</td>\n",
       "      <td>185837.000</td>\n",
       "      <td>8</td>\n",
       "      <td>16</td>\n",
       "      <td>7</td>\n",
       "      <td>[  503895   751495 13664258   643902]</td>\n",
       "      <td>11418</td>\n",
       "      <td>114</td>\n",
       "      <td>18</td>\n",
       "    </tr>\n",
       "    <tr>\n",
       "      <th>4</th>\n",
       "      <td>2336209090533711226</td>\n",
       "      <td>0</td>\n",
       "      <td>185837</td>\n",
       "      <td>232160.000</td>\n",
       "      <td>15</td>\n",
       "      <td>11</td>\n",
       "      <td>0</td>\n",
       "      <td>[1356945  542699  680706  426140]</td>\n",
       "      <td>11508</td>\n",
       "      <td>115</td>\n",
       "      <td>8</td>\n",
       "    </tr>\n",
       "    <tr>\n",
       "      <th>...</th>\n",
       "      <td>...</td>\n",
       "      <td>...</td>\n",
       "      <td>...</td>\n",
       "      <td>...</td>\n",
       "      <td>...</td>\n",
       "      <td>...</td>\n",
       "      <td>...</td>\n",
       "      <td>...</td>\n",
       "      <td>...</td>\n",
       "      <td>...</td>\n",
       "      <td>...</td>\n",
       "    </tr>\n",
       "    <tr>\n",
       "      <th>63608</th>\n",
       "      <td>3750336164790283694</td>\n",
       "      <td>0</td>\n",
       "      <td>3236967421</td>\n",
       "      <td>3237001578.000</td>\n",
       "      <td>11</td>\n",
       "      <td>25</td>\n",
       "      <td>30</td>\n",
       "      <td>[   204431  55744120 800000950  55737387 80000...</td>\n",
       "      <td>10402</td>\n",
       "      <td>104</td>\n",
       "      <td>2</td>\n",
       "    </tr>\n",
       "    <tr>\n",
       "      <th>63609</th>\n",
       "      <td>6578593639340324218</td>\n",
       "      <td>0</td>\n",
       "      <td>3237001578</td>\n",
       "      <td>3237041949.000</td>\n",
       "      <td>13</td>\n",
       "      <td>32</td>\n",
       "      <td>42</td>\n",
       "      <td>[   204431  55744120 800000950  55737387 80000...</td>\n",
       "      <td>10402</td>\n",
       "      <td>104</td>\n",
       "      <td>2</td>\n",
       "    </tr>\n",
       "    <tr>\n",
       "      <th>63610</th>\n",
       "      <td>4939290286258343342</td>\n",
       "      <td>0</td>\n",
       "      <td>3237041949</td>\n",
       "      <td>3237128491.000</td>\n",
       "      <td>28</td>\n",
       "      <td>11</td>\n",
       "      <td>80</td>\n",
       "      <td>[ 55756330    541241    392019 800001096]</td>\n",
       "      <td>10001</td>\n",
       "      <td>100</td>\n",
       "      <td>1</td>\n",
       "    </tr>\n",
       "    <tr>\n",
       "      <th>63611</th>\n",
       "      <td>2750529751830584750</td>\n",
       "      <td>0</td>\n",
       "      <td>3237128491</td>\n",
       "      <td>3237162701.000</td>\n",
       "      <td>11</td>\n",
       "      <td>25</td>\n",
       "      <td>47</td>\n",
       "      <td>[   541241 800001096  55756330    392019]</td>\n",
       "      <td>10001</td>\n",
       "      <td>100</td>\n",
       "      <td>1</td>\n",
       "    </tr>\n",
       "    <tr>\n",
       "      <th>63612</th>\n",
       "      <td>5939084830845425070</td>\n",
       "      <td>0</td>\n",
       "      <td>3237162701</td>\n",
       "      <td>NaN</td>\n",
       "      <td>20</td>\n",
       "      <td>17</td>\n",
       "      <td>4</td>\n",
       "      <td>[ 9779785  3325827 55860985 56076167]</td>\n",
       "      <td>10804</td>\n",
       "      <td>108</td>\n",
       "      <td>4</td>\n",
       "    </tr>\n",
       "  </tbody>\n",
       "</table>\n",
       "<p>63613 rows × 11 columns</p>\n",
       "</div>"
      ],
      "text/plain": [
       "                        id  file_id  start_offset     end_offset  num_frame  \\\n",
       "0      2345203561710400875        0             0      77241.000         25   \n",
       "1      5344606281729891758        0         77241     133078.000         18   \n",
       "2       759945328762912122        0        133078     161005.000          9   \n",
       "3      5560784129870034298        0        161005     185837.000          8   \n",
       "4      2336209090533711226        0        185837     232160.000         15   \n",
       "...                    ...      ...           ...            ...        ...   \n",
       "63608  3750336164790283694        0    3236967421 3237001578.000         11   \n",
       "63609  6578593639340324218        0    3237001578 3237041949.000         13   \n",
       "63610  4939290286258343342        0    3237041949 3237128491.000         28   \n",
       "63611  2750529751830584750        0    3237128491 3237162701.000         11   \n",
       "63612  5939084830845425070        0    3237162701            NaN         20   \n",
       "\n",
       "       title_len  asr_len                                             tag_id  \\\n",
       "0             28       35  [   81774  9779785 55860984  9597678 55755306 ...   \n",
       "1             28       75  [   81774   723622 56044756 55831581 55860907 ...   \n",
       "2             23        7              [  751495   503895 13664258   643902]   \n",
       "3             16        7              [  503895   751495 13664258   643902]   \n",
       "4             11        0                  [1356945  542699  680706  426140]   \n",
       "...          ...      ...                                                ...   \n",
       "63608         25       30  [   204431  55744120 800000950  55737387 80000...   \n",
       "63609         32       42  [   204431  55744120 800000950  55737387 80000...   \n",
       "63610         11       80          [ 55756330    541241    392019 800001096]   \n",
       "63611         25       47          [   541241 800001096  55756330    392019]   \n",
       "63612         17        4              [ 9779785  3325827 55860985 56076167]   \n",
       "\n",
       "       category_id  level1_category  level2_category  \n",
       "0            10802              108                2  \n",
       "1            10802              108                2  \n",
       "2            11418              114               18  \n",
       "3            11418              114               18  \n",
       "4            11508              115                8  \n",
       "...            ...              ...              ...  \n",
       "63608        10402              104                2  \n",
       "63609        10402              104                2  \n",
       "63610        10001              100                1  \n",
       "63611        10001              100                1  \n",
       "63612        10804              108                4  \n",
       "\n",
       "[63613 rows x 11 columns]"
      ]
     },
     "metadata": {},
     "execution_count": 21
    }
   ],
   "metadata": {}
  },
  {
   "cell_type": "code",
   "execution_count": 27,
   "source": [
    "pc = pointewise_count_info['category_id']\n",
    "wc = parwise_count_info['category_id']\n",
    "pc ,wc"
   ],
   "outputs": [
    {
     "output_type": "execute_result",
     "data": {
      "text/plain": [
       "(0         10106\n",
       " 1         10503\n",
       " 2         11804\n",
       " 3         10401\n",
       " 4         11703\n",
       "           ...  \n",
       " 999995    10505\n",
       " 999996    10001\n",
       " 999997    10502\n",
       " 999998    11604\n",
       " 999999    12200\n",
       " Name: category_id, Length: 1000000, dtype: int64,\n",
       " 0        10802\n",
       " 1        10802\n",
       " 2        11418\n",
       " 3        11418\n",
       " 4        11508\n",
       "          ...  \n",
       " 63608    10402\n",
       " 63609    10402\n",
       " 63610    10001\n",
       " 63611    10001\n",
       " 63612    10804\n",
       " Name: category_id, Length: 63613, dtype: int64)"
      ]
     },
     "metadata": {},
     "execution_count": 27
    }
   ],
   "metadata": {}
  },
  {
   "cell_type": "code",
   "execution_count": 45,
   "source": [
    "result = pd.concat((pc,wc))\n",
    "count = result.value_counts().rename_axis('category_id').reset_index(name='counts')\n",
    "\n",
    "count.to_csv(\"category_id_count_info.csv\", index=0)\n",
    "count\n",
    "# rs"
   ],
   "outputs": [
    {
     "output_type": "execute_result",
     "data": {
      "text/html": [
       "<div>\n",
       "<style scoped>\n",
       "    .dataframe tbody tr th:only-of-type {\n",
       "        vertical-align: middle;\n",
       "    }\n",
       "\n",
       "    .dataframe tbody tr th {\n",
       "        vertical-align: top;\n",
       "    }\n",
       "\n",
       "    .dataframe thead th {\n",
       "        text-align: right;\n",
       "    }\n",
       "</style>\n",
       "<table border=\"1\" class=\"dataframe\">\n",
       "  <thead>\n",
       "    <tr style=\"text-align: right;\">\n",
       "      <th></th>\n",
       "      <th>category_id</th>\n",
       "      <th>counts</th>\n",
       "    </tr>\n",
       "  </thead>\n",
       "  <tbody>\n",
       "    <tr>\n",
       "      <th>0</th>\n",
       "      <td>11604</td>\n",
       "      <td>123251</td>\n",
       "    </tr>\n",
       "    <tr>\n",
       "      <th>1</th>\n",
       "      <td>10001</td>\n",
       "      <td>73289</td>\n",
       "    </tr>\n",
       "    <tr>\n",
       "      <th>2</th>\n",
       "      <td>10804</td>\n",
       "      <td>70063</td>\n",
       "    </tr>\n",
       "    <tr>\n",
       "      <th>3</th>\n",
       "      <td>10501</td>\n",
       "      <td>41312</td>\n",
       "    </tr>\n",
       "    <tr>\n",
       "      <th>4</th>\n",
       "      <td>11806</td>\n",
       "      <td>36883</td>\n",
       "    </tr>\n",
       "    <tr>\n",
       "      <th>...</th>\n",
       "      <td>...</td>\n",
       "      <td>...</td>\n",
       "    </tr>\n",
       "    <tr>\n",
       "      <th>323</th>\n",
       "      <td>12421</td>\n",
       "      <td>1</td>\n",
       "    </tr>\n",
       "    <tr>\n",
       "      <th>324</th>\n",
       "      <td>13609</td>\n",
       "      <td>1</td>\n",
       "    </tr>\n",
       "    <tr>\n",
       "      <th>325</th>\n",
       "      <td>11100</td>\n",
       "      <td>1</td>\n",
       "    </tr>\n",
       "    <tr>\n",
       "      <th>326</th>\n",
       "      <td>12105</td>\n",
       "      <td>1</td>\n",
       "    </tr>\n",
       "    <tr>\n",
       "      <th>327</th>\n",
       "      <td>10509</td>\n",
       "      <td>1</td>\n",
       "    </tr>\n",
       "  </tbody>\n",
       "</table>\n",
       "<p>328 rows × 2 columns</p>\n",
       "</div>"
      ],
      "text/plain": [
       "     category_id  counts\n",
       "0          11604  123251\n",
       "1          10001   73289\n",
       "2          10804   70063\n",
       "3          10501   41312\n",
       "4          11806   36883\n",
       "..           ...     ...\n",
       "323        12421       1\n",
       "324        13609       1\n",
       "325        11100       1\n",
       "326        12105       1\n",
       "327        10509       1\n",
       "\n",
       "[328 rows x 2 columns]"
      ]
     },
     "metadata": {},
     "execution_count": 45
    }
   ],
   "metadata": {}
  },
  {
   "cell_type": "code",
   "execution_count": 13,
   "source": [
    "a =  pointewise_count_info[pointewise_count_info['asr_len']<40]\n",
    "a['asr_len'].hist(bins=20)"
   ],
   "outputs": [
    {
     "output_type": "execute_result",
     "data": {
      "text/plain": [
       "<AxesSubplot:>"
      ]
     },
     "metadata": {},
     "execution_count": 13
    },
    {
     "output_type": "display_data",
     "data": {
      "image/png": "[encoded data removed]",
      "text/plain": [
       "<Figure size 432x288 with 1 Axes>"
      ]
     },
     "metadata": {
      "needs_background": "light"
     }
    }
   ],
   "metadata": {}
  },
  {
   "cell_type": "code",
   "execution_count": 41,
   "source": [
    "category_id = pointewise_count_info['category_id']"
   ],
   "outputs": [],
   "metadata": {}
  },
  {
   "cell_type": "code",
   "execution_count": 42,
   "source": [
    "count = category_id.value_counts().rename_axis('id').reset_index(name='counts')\n",
    "count.head()"
   ],
   "outputs": [
    {
     "output_type": "execute_result",
     "data": {
      "text/html": [
       "<div>\n",
       "<style scoped>\n",
       "    .dataframe tbody tr th:only-of-type {\n",
       "        vertical-align: middle;\n",
       "    }\n",
       "\n",
       "    .dataframe tbody tr th {\n",
       "        vertical-align: top;\n",
       "    }\n",
       "\n",
       "    .dataframe thead th {\n",
       "        text-align: right;\n",
       "    }\n",
       "</style>\n",
       "<table border=\"1\" class=\"dataframe\">\n",
       "  <thead>\n",
       "    <tr style=\"text-align: right;\">\n",
       "      <th></th>\n",
       "      <th>id</th>\n",
       "      <th>counts</th>\n",
       "    </tr>\n",
       "  </thead>\n",
       "  <tbody>\n",
       "    <tr>\n",
       "      <th>0</th>\n",
       "      <td>11604</td>\n",
       "      <td>115423</td>\n",
       "    </tr>\n",
       "    <tr>\n",
       "      <th>1</th>\n",
       "      <td>10001</td>\n",
       "      <td>69385</td>\n",
       "    </tr>\n",
       "    <tr>\n",
       "      <th>2</th>\n",
       "      <td>10804</td>\n",
       "      <td>67348</td>\n",
       "    </tr>\n",
       "    <tr>\n",
       "      <th>3</th>\n",
       "      <td>10501</td>\n",
       "      <td>39313</td>\n",
       "    </tr>\n",
       "    <tr>\n",
       "      <th>4</th>\n",
       "      <td>11806</td>\n",
       "      <td>35015</td>\n",
       "    </tr>\n",
       "  </tbody>\n",
       "</table>\n",
       "</div>"
      ],
      "text/plain": [
       "      id  counts\n",
       "0  11604  115423\n",
       "1  10001   69385\n",
       "2  10804   67348\n",
       "3  10501   39313\n",
       "4  11806   35015"
      ]
     },
     "metadata": {},
     "execution_count": 42
    }
   ],
   "metadata": {}
  },
  {
   "cell_type": "code",
   "execution_count": 20,
   "source": [
    "count.to_csv(\"category_id_count.csv\", index=0)"
   ],
   "outputs": [],
   "metadata": {}
  },
  {
   "cell_type": "code",
   "execution_count": 5,
   "source": [
    "pointewise_count_info[\"id\"].duplicated().sum()"
   ],
   "outputs": [
    {
     "output_type": "execute_result",
     "data": {
      "text/plain": [
       "0"
      ]
     },
     "metadata": {},
     "execution_count": 5
    }
   ],
   "metadata": {}
  },
  {
   "cell_type": "code",
   "execution_count": null,
   "source": [
    "def from_np_array(array_string):\n",
    "  array_string = re.sub(r\"[[\\]]\", \"\", array_string)\n",
    "  return np.array(array_string.split(), dtype=np.int32)"
   ],
   "outputs": [],
   "metadata": {}
  },
  {
   "cell_type": "code",
   "execution_count": 31,
   "source": [
    "tag = []\n",
    "pointewise_count_info[\"tag_id\"].apply(lambda x: tag.extend(x))\n",
    "len(set(tag))"
   ],
   "outputs": [
    {
     "output_type": "execute_result",
     "data": {
      "text/plain": [
       "62880"
      ]
     },
     "metadata": {},
     "execution_count": 31
    }
   ],
   "metadata": {}
  },
  {
   "cell_type": "code",
   "execution_count": 32,
   "source": [
    "tag[:10]"
   ],
   "outputs": [
    {
     "output_type": "execute_result",
     "data": {
      "text/plain": [
       "[90253,\n",
       " 90130,\n",
       " 800001412,\n",
       " 697404,\n",
       " 5199144,\n",
       " 800001783,\n",
       " 101810,\n",
       " 55754190,\n",
       " 56039974,\n",
       " 1354564]"
      ]
     },
     "metadata": {},
     "execution_count": 32
    }
   ],
   "metadata": {}
  },
  {
   "cell_type": "code",
   "execution_count": 35,
   "source": [
    "from collections import Counter\n",
    "tag_c = Counter(tag)\n",
    "tag_c.most_common()\n",
    "tag_count = pd.DataFrame(tag_c.most_common(), columns=['tag_id', 'count'])\n",
    "\n",
    "tag_count.head()"
   ],
   "outputs": [
    {
     "output_type": "execute_result",
     "data": {
      "text/html": [
       "<div>\n",
       "<style scoped>\n",
       "    .dataframe tbody tr th:only-of-type {\n",
       "        vertical-align: middle;\n",
       "    }\n",
       "\n",
       "    .dataframe tbody tr th {\n",
       "        vertical-align: top;\n",
       "    }\n",
       "\n",
       "    .dataframe thead th {\n",
       "        text-align: right;\n",
       "    }\n",
       "</style>\n",
       "<table border=\"1\" class=\"dataframe\">\n",
       "  <thead>\n",
       "    <tr style=\"text-align: right;\">\n",
       "      <th></th>\n",
       "      <th>tag_id</th>\n",
       "      <th>count</th>\n",
       "    </tr>\n",
       "  </thead>\n",
       "  <tbody>\n",
       "    <tr>\n",
       "      <th>0</th>\n",
       "      <td>541241</td>\n",
       "      <td>71992</td>\n",
       "    </tr>\n",
       "    <tr>\n",
       "      <th>1</th>\n",
       "      <td>392019</td>\n",
       "      <td>71762</td>\n",
       "    </tr>\n",
       "    <tr>\n",
       "      <th>2</th>\n",
       "      <td>55804072</td>\n",
       "      <td>49672</td>\n",
       "    </tr>\n",
       "    <tr>\n",
       "      <th>3</th>\n",
       "      <td>800000568</td>\n",
       "      <td>48636</td>\n",
       "    </tr>\n",
       "    <tr>\n",
       "      <th>4</th>\n",
       "      <td>800001718</td>\n",
       "      <td>48325</td>\n",
       "    </tr>\n",
       "  </tbody>\n",
       "</table>\n",
       "</div>"
      ],
      "text/plain": [
       "      tag_id  count\n",
       "0     541241  71992\n",
       "1     392019  71762\n",
       "2   55804072  49672\n",
       "3  800000568  48636\n",
       "4  800001718  48325"
      ]
     },
     "metadata": {},
     "execution_count": 35
    }
   ],
   "metadata": {}
  },
  {
   "cell_type": "code",
   "execution_count": 36,
   "source": [
    "tag_count.to_csv(\"result/tag_count_info.csv\",index = 0)"
   ],
   "outputs": [],
   "metadata": {}
  },
  {
   "cell_type": "code",
   "execution_count": 12,
   "source": [
    "pointewise_count_info[\"category_id\"].unique().shape"
   ],
   "outputs": [
    {
     "output_type": "execute_result",
     "data": {
      "text/plain": [
       "(327,)"
      ]
     },
     "metadata": {},
     "execution_count": 12
    }
   ],
   "metadata": {}
  },
  {
   "cell_type": "code",
   "execution_count": 13,
   "source": [
    "pointewise_count_info[\"level1_category\"].unique().shape"
   ],
   "outputs": [
    {
     "output_type": "execute_result",
     "data": {
      "text/plain": [
       "(40,)"
      ]
     },
     "metadata": {},
     "execution_count": 13
    }
   ],
   "metadata": {}
  },
  {
   "cell_type": "code",
   "execution_count": 14,
   "source": [
    "pointewise_count_info[\"level2_category\"].unique().shape"
   ],
   "outputs": [
    {
     "output_type": "execute_result",
     "data": {
      "text/plain": [
       "(23,)"
      ]
     },
     "metadata": {},
     "execution_count": 14
    }
   ],
   "metadata": {}
  },
  {
   "cell_type": "code",
   "execution_count": 4,
   "source": [
    "pointewise_count_info.hist(column=\"num_frame\")"
   ],
   "outputs": [
    {
     "output_type": "execute_result",
     "data": {
      "text/plain": [
       "array([[<AxesSubplot:title={'center':'num_frame'}>]], dtype=object)"
      ]
     },
     "metadata": {},
     "execution_count": 4
    },
    {
     "output_type": "display_data",
     "data": {
      "image/png": "[encoded data removed]",
      "text/plain": [
       "<Figure size 432x288 with 1 Axes>"
      ]
     },
     "metadata": {
      "needs_background": "light"
     }
    }
   ],
   "metadata": {}
  },
  {
   "cell_type": "code",
   "execution_count": 5,
   "source": [
    "pointewise_count_info.hist(column=\"title_len\")"
   ],
   "outputs": [
    {
     "output_type": "execute_result",
     "data": {
      "text/plain": [
       "array([[<AxesSubplot:title={'center':'title_len'}>]], dtype=object)"
      ]
     },
     "metadata": {},
     "execution_count": 5
    },
    {
     "output_type": "display_data",
     "data": {
      "image/png": "[encoded data removed]",
      "text/plain": [
       "<Figure size 432x288 with 1 Axes>"
      ]
     },
     "metadata": {
      "needs_background": "light"
     }
    }
   ],
   "metadata": {}
  },
  {
   "cell_type": "code",
   "execution_count": 6,
   "source": [
    "pointewise_count_info.asr_len.describe()"
   ],
   "outputs": [
    {
     "output_type": "execute_result",
     "data": {
      "text/plain": [
       "count   1000000.000\n",
       "mean         40.435\n",
       "std          51.987\n",
       "min           0.000\n",
       "25%           8.000\n",
       "50%          23.000\n",
       "75%          50.000\n",
       "max         772.000\n",
       "Name: asr_len, dtype: float64"
      ]
     },
     "metadata": {},
     "execution_count": 6
    }
   ],
   "metadata": {}
  },
  {
   "cell_type": "markdown",
   "source": [
    "# 读pairwise数据"
   ],
   "metadata": {}
  },
  {
   "cell_type": "code",
   "execution_count": 7,
   "source": [
    "def from_np_array(array_string):\n",
    "  array_string = re.sub(r\"[[\\]]\", \"\", array_string)\n",
    "  return np.array(array_string.split(), dtype=np.int32)"
   ],
   "outputs": [],
   "metadata": {}
  },
  {
   "cell_type": "code",
   "execution_count": 10,
   "source": [
    "\n",
    "pointewise_count_info = pd.read_csv('result/pairwise_count_info.csv',\n",
    "                  converters={\n",
    "                      'tag_id': from_np_array,\n",
    "                  })\n",
    "pointewise_count_info.head()"
   ],
   "outputs": [
    {
     "output_type": "stream",
     "name": "stderr",
     "text": [
      "/tmp/ipykernel_27309/2960218577.py:2: FutureWarning: Possible nested set at position 1\n",
      "  array_string = re.sub(r\"[[\\]]\", \"\", array_string)\n"
     ]
    },
    {
     "output_type": "execute_result",
     "data": {
      "text/html": [
       "<div>\n",
       "<style scoped>\n",
       "    .dataframe tbody tr th:only-of-type {\n",
       "        vertical-align: middle;\n",
       "    }\n",
       "\n",
       "    .dataframe tbody tr th {\n",
       "        vertical-align: top;\n",
       "    }\n",
       "\n",
       "    .dataframe thead th {\n",
       "        text-align: right;\n",
       "    }\n",
       "</style>\n",
       "<table border=\"1\" class=\"dataframe\">\n",
       "  <thead>\n",
       "    <tr style=\"text-align: right;\">\n",
       "      <th></th>\n",
       "      <th>id</th>\n",
       "      <th>file_id</th>\n",
       "      <th>start_offset</th>\n",
       "      <th>end_offset</th>\n",
       "      <th>num_frame</th>\n",
       "      <th>title_len</th>\n",
       "      <th>asr_len</th>\n",
       "      <th>tag_id</th>\n",
       "      <th>category_id</th>\n",
       "      <th>level1_category</th>\n",
       "      <th>level2_category</th>\n",
       "    </tr>\n",
       "  </thead>\n",
       "  <tbody>\n",
       "    <tr>\n",
       "      <th>0</th>\n",
       "      <td>2345203561710400875</td>\n",
       "      <td>0</td>\n",
       "      <td>0</td>\n",
       "      <td>77241.000</td>\n",
       "      <td>25</td>\n",
       "      <td>28</td>\n",
       "      <td>35</td>\n",
       "      <td>[81774, 9779785, 55860984, 9597678, 55755306, ...</td>\n",
       "      <td>10802</td>\n",
       "      <td>108</td>\n",
       "      <td>2</td>\n",
       "    </tr>\n",
       "    <tr>\n",
       "      <th>1</th>\n",
       "      <td>5344606281729891758</td>\n",
       "      <td>0</td>\n",
       "      <td>77241</td>\n",
       "      <td>133078.000</td>\n",
       "      <td>18</td>\n",
       "      <td>28</td>\n",
       "      <td>75</td>\n",
       "      <td>[81774, 723622, 56044756, 55831581, 55860907, ...</td>\n",
       "      <td>10802</td>\n",
       "      <td>108</td>\n",
       "      <td>2</td>\n",
       "    </tr>\n",
       "    <tr>\n",
       "      <th>2</th>\n",
       "      <td>759945328762912122</td>\n",
       "      <td>0</td>\n",
       "      <td>133078</td>\n",
       "      <td>161005.000</td>\n",
       "      <td>9</td>\n",
       "      <td>23</td>\n",
       "      <td>7</td>\n",
       "      <td>[751495, 503895, 13664258, 643902]</td>\n",
       "      <td>11418</td>\n",
       "      <td>114</td>\n",
       "      <td>18</td>\n",
       "    </tr>\n",
       "    <tr>\n",
       "      <th>3</th>\n",
       "      <td>5560784129870034298</td>\n",
       "      <td>0</td>\n",
       "      <td>161005</td>\n",
       "      <td>185837.000</td>\n",
       "      <td>8</td>\n",
       "      <td>16</td>\n",
       "      <td>7</td>\n",
       "      <td>[503895, 751495, 13664258, 643902]</td>\n",
       "      <td>11418</td>\n",
       "      <td>114</td>\n",
       "      <td>18</td>\n",
       "    </tr>\n",
       "    <tr>\n",
       "      <th>4</th>\n",
       "      <td>2336209090533711226</td>\n",
       "      <td>0</td>\n",
       "      <td>185837</td>\n",
       "      <td>232160.000</td>\n",
       "      <td>15</td>\n",
       "      <td>11</td>\n",
       "      <td>0</td>\n",
       "      <td>[1356945, 542699, 680706, 426140]</td>\n",
       "      <td>11508</td>\n",
       "      <td>115</td>\n",
       "      <td>8</td>\n",
       "    </tr>\n",
       "  </tbody>\n",
       "</table>\n",
       "</div>"
      ],
      "text/plain": [
       "                    id  file_id  start_offset  end_offset  num_frame  \\\n",
       "0  2345203561710400875        0             0   77241.000         25   \n",
       "1  5344606281729891758        0         77241  133078.000         18   \n",
       "2   759945328762912122        0        133078  161005.000          9   \n",
       "3  5560784129870034298        0        161005  185837.000          8   \n",
       "4  2336209090533711226        0        185837  232160.000         15   \n",
       "\n",
       "   title_len  asr_len                                             tag_id  \\\n",
       "0         28       35  [81774, 9779785, 55860984, 9597678, 55755306, ...   \n",
       "1         28       75  [81774, 723622, 56044756, 55831581, 55860907, ...   \n",
       "2         23        7                 [751495, 503895, 13664258, 643902]   \n",
       "3         16        7                 [503895, 751495, 13664258, 643902]   \n",
       "4         11        0                  [1356945, 542699, 680706, 426140]   \n",
       "\n",
       "   category_id  level1_category  level2_category  \n",
       "0        10802              108                2  \n",
       "1        10802              108                2  \n",
       "2        11418              114               18  \n",
       "3        11418              114               18  \n",
       "4        11508              115                8  "
      ]
     },
     "metadata": {},
     "execution_count": 10
    }
   ],
   "metadata": {}
  },
  {
   "cell_type": "markdown",
   "source": [
    "# 读pairwise score"
   ],
   "metadata": {}
  },
  {
   "cell_type": "code",
   "execution_count": 11,
   "source": [
    "pairwise_score = pd.read_csv('result/pairwise_score.csv')\n",
    "pairwise_score"
   ],
   "outputs": [
    {
     "output_type": "execute_result",
     "data": {
      "text/html": [
       "<div>\n",
       "<style scoped>\n",
       "    .dataframe tbody tr th:only-of-type {\n",
       "        vertical-align: middle;\n",
       "    }\n",
       "\n",
       "    .dataframe tbody tr th {\n",
       "        vertical-align: top;\n",
       "    }\n",
       "\n",
       "    .dataframe thead th {\n",
       "        text-align: right;\n",
       "    }\n",
       "</style>\n",
       "<table border=\"1\" class=\"dataframe\">\n",
       "  <thead>\n",
       "    <tr style=\"text-align: right;\">\n",
       "      <th></th>\n",
       "      <th>id_1</th>\n",
       "      <th>id_2</th>\n",
       "      <th>score</th>\n",
       "    </tr>\n",
       "  </thead>\n",
       "  <tbody>\n",
       "    <tr>\n",
       "      <th>0</th>\n",
       "      <td>2345203561710400875</td>\n",
       "      <td>5344606281729891758</td>\n",
       "      <td>1.000</td>\n",
       "    </tr>\n",
       "    <tr>\n",
       "      <th>1</th>\n",
       "      <td>759945328762912122</td>\n",
       "      <td>5560784129870034298</td>\n",
       "      <td>0.850</td>\n",
       "    </tr>\n",
       "    <tr>\n",
       "      <th>2</th>\n",
       "      <td>2336209090533711226</td>\n",
       "      <td>8010747189096226170</td>\n",
       "      <td>1.000</td>\n",
       "    </tr>\n",
       "    <tr>\n",
       "      <th>3</th>\n",
       "      <td>2588403135132530094</td>\n",
       "      <td>5380633252649788846</td>\n",
       "      <td>0.250</td>\n",
       "    </tr>\n",
       "    <tr>\n",
       "      <th>4</th>\n",
       "      <td>3245934094259209594</td>\n",
       "      <td>120437073895839098</td>\n",
       "      <td>1.000</td>\n",
       "    </tr>\n",
       "    <tr>\n",
       "      <th>...</th>\n",
       "      <td>...</td>\n",
       "      <td>...</td>\n",
       "      <td>...</td>\n",
       "    </tr>\n",
       "    <tr>\n",
       "      <th>67894</th>\n",
       "      <td>3750336164790283694</td>\n",
       "      <td>6578593639340324218</td>\n",
       "      <td>0.500</td>\n",
       "    </tr>\n",
       "    <tr>\n",
       "      <th>67895</th>\n",
       "      <td>4587992807793958251</td>\n",
       "      <td>3651241564586845614</td>\n",
       "      <td>0.050</td>\n",
       "    </tr>\n",
       "    <tr>\n",
       "      <th>67896</th>\n",
       "      <td>4939290286258343342</td>\n",
       "      <td>2750529751830584750</td>\n",
       "      <td>0.000</td>\n",
       "    </tr>\n",
       "    <tr>\n",
       "      <th>67897</th>\n",
       "      <td>7461297012077098362</td>\n",
       "      <td>5939084830845425070</td>\n",
       "      <td>1.000</td>\n",
       "    </tr>\n",
       "    <tr>\n",
       "      <th>67898</th>\n",
       "      <td>1732719335966508462</td>\n",
       "      <td>7695458834097743278</td>\n",
       "      <td>0.150</td>\n",
       "    </tr>\n",
       "  </tbody>\n",
       "</table>\n",
       "<p>67899 rows × 3 columns</p>\n",
       "</div>"
      ],
      "text/plain": [
       "                      id_1                 id_2  score\n",
       "0      2345203561710400875  5344606281729891758  1.000\n",
       "1       759945328762912122  5560784129870034298  0.850\n",
       "2      2336209090533711226  8010747189096226170  1.000\n",
       "3      2588403135132530094  5380633252649788846  0.250\n",
       "4      3245934094259209594   120437073895839098  1.000\n",
       "...                    ...                  ...    ...\n",
       "67894  3750336164790283694  6578593639340324218  0.500\n",
       "67895  4587992807793958251  3651241564586845614  0.050\n",
       "67896  4939290286258343342  2750529751830584750  0.000\n",
       "67897  7461297012077098362  5939084830845425070  1.000\n",
       "67898  1732719335966508462  7695458834097743278  0.150\n",
       "\n",
       "[67899 rows x 3 columns]"
      ]
     },
     "metadata": {},
     "execution_count": 11
    }
   ],
   "metadata": {}
  },
  {
   "cell_type": "markdown",
   "source": [
    "# 查看部分数据"
   ],
   "metadata": {}
  },
  {
   "cell_type": "code",
   "execution_count": 12,
   "source": [
    "index = 0\n",
    "print(pairwise_score.iloc[index])\n",
    "check = pairwise_score.iloc[index][[\"id_1\", \"id_2\"]].tolist()\n",
    "pointewise_count_info[pointewise_count_info[\"id\"].isin(check)]"
   ],
   "outputs": [
    {
     "output_type": "stream",
     "name": "stdout",
     "text": [
      "id_1    2345203561710401024.000\n",
      "id_2    5344606281729891328.000\n",
      "score                     1.000\n",
      "Name: 0, dtype: float64\n"
     ]
    },
    {
     "output_type": "execute_result",
     "data": {
      "text/html": [
       "<div>\n",
       "<style scoped>\n",
       "    .dataframe tbody tr th:only-of-type {\n",
       "        vertical-align: middle;\n",
       "    }\n",
       "\n",
       "    .dataframe tbody tr th {\n",
       "        vertical-align: top;\n",
       "    }\n",
       "\n",
       "    .dataframe thead th {\n",
       "        text-align: right;\n",
       "    }\n",
       "</style>\n",
       "<table border=\"1\" class=\"dataframe\">\n",
       "  <thead>\n",
       "    <tr style=\"text-align: right;\">\n",
       "      <th></th>\n",
       "      <th>id</th>\n",
       "      <th>file_id</th>\n",
       "      <th>start_offset</th>\n",
       "      <th>end_offset</th>\n",
       "      <th>num_frame</th>\n",
       "      <th>title_len</th>\n",
       "      <th>asr_len</th>\n",
       "      <th>tag_id</th>\n",
       "      <th>category_id</th>\n",
       "      <th>level1_category</th>\n",
       "      <th>level2_category</th>\n",
       "    </tr>\n",
       "  </thead>\n",
       "  <tbody>\n",
       "    <tr>\n",
       "      <th>0</th>\n",
       "      <td>2345203561710400875</td>\n",
       "      <td>0</td>\n",
       "      <td>0</td>\n",
       "      <td>77241.000</td>\n",
       "      <td>25</td>\n",
       "      <td>28</td>\n",
       "      <td>35</td>\n",
       "      <td>[81774, 9779785, 55860984, 9597678, 55755306, ...</td>\n",
       "      <td>10802</td>\n",
       "      <td>108</td>\n",
       "      <td>2</td>\n",
       "    </tr>\n",
       "    <tr>\n",
       "      <th>1</th>\n",
       "      <td>5344606281729891758</td>\n",
       "      <td>0</td>\n",
       "      <td>77241</td>\n",
       "      <td>133078.000</td>\n",
       "      <td>18</td>\n",
       "      <td>28</td>\n",
       "      <td>75</td>\n",
       "      <td>[81774, 723622, 56044756, 55831581, 55860907, ...</td>\n",
       "      <td>10802</td>\n",
       "      <td>108</td>\n",
       "      <td>2</td>\n",
       "    </tr>\n",
       "  </tbody>\n",
       "</table>\n",
       "</div>"
      ],
      "text/plain": [
       "                    id  file_id  start_offset  end_offset  num_frame  \\\n",
       "0  2345203561710400875        0             0   77241.000         25   \n",
       "1  5344606281729891758        0         77241  133078.000         18   \n",
       "\n",
       "   title_len  asr_len                                             tag_id  \\\n",
       "0         28       35  [81774, 9779785, 55860984, 9597678, 55755306, ...   \n",
       "1         28       75  [81774, 723622, 56044756, 55831581, 55860907, ...   \n",
       "\n",
       "   category_id  level1_category  level2_category  \n",
       "0        10802              108                2  \n",
       "1        10802              108                2  "
      ]
     },
     "metadata": {},
     "execution_count": 12
    }
   ],
   "metadata": {}
  },
  {
   "cell_type": "code",
   "execution_count": 13,
   "source": [
    "index = 1\n",
    "print(pairwise_score.iloc[index])\n",
    "check = pairwise_score.iloc[index][[\"id_1\", \"id_2\"]].tolist()\n",
    "pointewise_count_info[pointewise_count_info[\"id\"].isin(check)]"
   ],
   "outputs": [
    {
     "output_type": "stream",
     "name": "stdout",
     "text": [
      "id_1     759945328762912128.000\n",
      "id_2    5560784129870033920.000\n",
      "score                     0.850\n",
      "Name: 1, dtype: float64\n"
     ]
    },
    {
     "output_type": "execute_result",
     "data": {
      "text/html": [
       "<div>\n",
       "<style scoped>\n",
       "    .dataframe tbody tr th:only-of-type {\n",
       "        vertical-align: middle;\n",
       "    }\n",
       "\n",
       "    .dataframe tbody tr th {\n",
       "        vertical-align: top;\n",
       "    }\n",
       "\n",
       "    .dataframe thead th {\n",
       "        text-align: right;\n",
       "    }\n",
       "</style>\n",
       "<table border=\"1\" class=\"dataframe\">\n",
       "  <thead>\n",
       "    <tr style=\"text-align: right;\">\n",
       "      <th></th>\n",
       "      <th>id</th>\n",
       "      <th>file_id</th>\n",
       "      <th>start_offset</th>\n",
       "      <th>end_offset</th>\n",
       "      <th>num_frame</th>\n",
       "      <th>title_len</th>\n",
       "      <th>asr_len</th>\n",
       "      <th>tag_id</th>\n",
       "      <th>category_id</th>\n",
       "      <th>level1_category</th>\n",
       "      <th>level2_category</th>\n",
       "    </tr>\n",
       "  </thead>\n",
       "  <tbody>\n",
       "    <tr>\n",
       "      <th>2</th>\n",
       "      <td>759945328762912122</td>\n",
       "      <td>0</td>\n",
       "      <td>133078</td>\n",
       "      <td>161005.000</td>\n",
       "      <td>9</td>\n",
       "      <td>23</td>\n",
       "      <td>7</td>\n",
       "      <td>[751495, 503895, 13664258, 643902]</td>\n",
       "      <td>11418</td>\n",
       "      <td>114</td>\n",
       "      <td>18</td>\n",
       "    </tr>\n",
       "    <tr>\n",
       "      <th>3</th>\n",
       "      <td>5560784129870034298</td>\n",
       "      <td>0</td>\n",
       "      <td>161005</td>\n",
       "      <td>185837.000</td>\n",
       "      <td>8</td>\n",
       "      <td>16</td>\n",
       "      <td>7</td>\n",
       "      <td>[503895, 751495, 13664258, 643902]</td>\n",
       "      <td>11418</td>\n",
       "      <td>114</td>\n",
       "      <td>18</td>\n",
       "    </tr>\n",
       "  </tbody>\n",
       "</table>\n",
       "</div>"
      ],
      "text/plain": [
       "                    id  file_id  start_offset  end_offset  num_frame  \\\n",
       "2   759945328762912122        0        133078  161005.000          9   \n",
       "3  5560784129870034298        0        161005  185837.000          8   \n",
       "\n",
       "   title_len  asr_len                              tag_id  category_id  \\\n",
       "2         23        7  [751495, 503895, 13664258, 643902]        11418   \n",
       "3         16        7  [503895, 751495, 13664258, 643902]        11418   \n",
       "\n",
       "   level1_category  level2_category  \n",
       "2              114               18  \n",
       "3              114               18  "
      ]
     },
     "metadata": {},
     "execution_count": 13
    }
   ],
   "metadata": {}
  },
  {
   "cell_type": "code",
   "execution_count": 14,
   "source": [
    "index = 3\n",
    "print(pairwise_score.iloc[index])\n",
    "check = pairwise_score.iloc[index][[\"id_1\", \"id_2\"]].tolist()\n",
    "pointewise_count_info[pointewise_count_info[\"id\"].isin(check)]"
   ],
   "outputs": [
    {
     "output_type": "stream",
     "name": "stdout",
     "text": [
      "id_1    2588403135132530176.000\n",
      "id_2    5380633252649788416.000\n",
      "score                     0.250\n",
      "Name: 3, dtype: float64\n"
     ]
    },
    {
     "output_type": "execute_result",
     "data": {
      "text/html": [
       "<div>\n",
       "<style scoped>\n",
       "    .dataframe tbody tr th:only-of-type {\n",
       "        vertical-align: middle;\n",
       "    }\n",
       "\n",
       "    .dataframe tbody tr th {\n",
       "        vertical-align: top;\n",
       "    }\n",
       "\n",
       "    .dataframe thead th {\n",
       "        text-align: right;\n",
       "    }\n",
       "</style>\n",
       "<table border=\"1\" class=\"dataframe\">\n",
       "  <thead>\n",
       "    <tr style=\"text-align: right;\">\n",
       "      <th></th>\n",
       "      <th>id</th>\n",
       "      <th>file_id</th>\n",
       "      <th>start_offset</th>\n",
       "      <th>end_offset</th>\n",
       "      <th>num_frame</th>\n",
       "      <th>title_len</th>\n",
       "      <th>asr_len</th>\n",
       "      <th>tag_id</th>\n",
       "      <th>category_id</th>\n",
       "      <th>level1_category</th>\n",
       "      <th>level2_category</th>\n",
       "    </tr>\n",
       "  </thead>\n",
       "  <tbody>\n",
       "    <tr>\n",
       "      <th>6</th>\n",
       "      <td>2588403135132530094</td>\n",
       "      <td>0</td>\n",
       "      <td>281584</td>\n",
       "      <td>312605.000</td>\n",
       "      <td>10</td>\n",
       "      <td>23</td>\n",
       "      <td>10</td>\n",
       "      <td>[102598, 14973559, 9712985, 380310, 55754190, ...</td>\n",
       "      <td>11701</td>\n",
       "      <td>117</td>\n",
       "      <td>1</td>\n",
       "    </tr>\n",
       "    <tr>\n",
       "      <th>7</th>\n",
       "      <td>5380633252649788846</td>\n",
       "      <td>0</td>\n",
       "      <td>312605</td>\n",
       "      <td>343673.000</td>\n",
       "      <td>10</td>\n",
       "      <td>27</td>\n",
       "      <td>24</td>\n",
       "      <td>[102598, 14973559, 55813382, 55800585]</td>\n",
       "      <td>11701</td>\n",
       "      <td>117</td>\n",
       "      <td>1</td>\n",
       "    </tr>\n",
       "  </tbody>\n",
       "</table>\n",
       "</div>"
      ],
      "text/plain": [
       "                    id  file_id  start_offset  end_offset  num_frame  \\\n",
       "6  2588403135132530094        0        281584  312605.000         10   \n",
       "7  5380633252649788846        0        312605  343673.000         10   \n",
       "\n",
       "   title_len  asr_len                                             tag_id  \\\n",
       "6         23       10  [102598, 14973559, 9712985, 380310, 55754190, ...   \n",
       "7         27       24             [102598, 14973559, 55813382, 55800585]   \n",
       "\n",
       "   category_id  level1_category  level2_category  \n",
       "6        11701              117                1  \n",
       "7        11701              117                1  "
      ]
     },
     "metadata": {},
     "execution_count": 14
    }
   ],
   "metadata": {}
  },
  {
   "cell_type": "code",
   "execution_count": 15,
   "source": [
    "index = 5\n",
    "print(pairwise_score.iloc[index])\n",
    "check = pairwise_score.iloc[index][[\"id_1\", \"id_2\"]].tolist()\n",
    "pointewise_count_info[pointewise_count_info[\"id\"].isin(check)]"
   ],
   "outputs": [
    {
     "output_type": "stream",
     "name": "stdout",
     "text": [
      "id_1    6362419613443853312.000\n",
      "id_2    7200089050526278656.000\n",
      "score                     0.000\n",
      "Name: 5, dtype: float64\n"
     ]
    },
    {
     "output_type": "execute_result",
     "data": {
      "text/html": [
       "<div>\n",
       "<style scoped>\n",
       "    .dataframe tbody tr th:only-of-type {\n",
       "        vertical-align: middle;\n",
       "    }\n",
       "\n",
       "    .dataframe tbody tr th {\n",
       "        vertical-align: top;\n",
       "    }\n",
       "\n",
       "    .dataframe thead th {\n",
       "        text-align: right;\n",
       "    }\n",
       "</style>\n",
       "<table border=\"1\" class=\"dataframe\">\n",
       "  <thead>\n",
       "    <tr style=\"text-align: right;\">\n",
       "      <th></th>\n",
       "      <th>id</th>\n",
       "      <th>file_id</th>\n",
       "      <th>start_offset</th>\n",
       "      <th>end_offset</th>\n",
       "      <th>num_frame</th>\n",
       "      <th>title_len</th>\n",
       "      <th>asr_len</th>\n",
       "      <th>tag_id</th>\n",
       "      <th>category_id</th>\n",
       "      <th>level1_category</th>\n",
       "      <th>level2_category</th>\n",
       "    </tr>\n",
       "  </thead>\n",
       "  <tbody>\n",
       "    <tr>\n",
       "      <th>10</th>\n",
       "      <td>6362419613443853690</td>\n",
       "      <td>0</td>\n",
       "      <td>402874</td>\n",
       "      <td>443185.000</td>\n",
       "      <td>13</td>\n",
       "      <td>27</td>\n",
       "      <td>27</td>\n",
       "      <td>[631724, 56070375, 52822, 380677, 41443783, 10...</td>\n",
       "      <td>10302</td>\n",
       "      <td>103</td>\n",
       "      <td>2</td>\n",
       "    </tr>\n",
       "    <tr>\n",
       "      <th>11</th>\n",
       "      <td>7200089050526279034</td>\n",
       "      <td>0</td>\n",
       "      <td>443185</td>\n",
       "      <td>480351.000</td>\n",
       "      <td>12</td>\n",
       "      <td>28</td>\n",
       "      <td>4</td>\n",
       "      <td>[55798744, 52822, 9781151, 55747399, 55824694,...</td>\n",
       "      <td>10302</td>\n",
       "      <td>103</td>\n",
       "      <td>2</td>\n",
       "    </tr>\n",
       "  </tbody>\n",
       "</table>\n",
       "</div>"
      ],
      "text/plain": [
       "                     id  file_id  start_offset  end_offset  num_frame  \\\n",
       "10  6362419613443853690        0        402874  443185.000         13   \n",
       "11  7200089050526279034        0        443185  480351.000         12   \n",
       "\n",
       "    title_len  asr_len                                             tag_id  \\\n",
       "10         27       27  [631724, 56070375, 52822, 380677, 41443783, 10...   \n",
       "11         28        4  [55798744, 52822, 9781151, 55747399, 55824694,...   \n",
       "\n",
       "    category_id  level1_category  level2_category  \n",
       "10        10302              103                2  \n",
       "11        10302              103                2  "
      ]
     },
     "metadata": {},
     "execution_count": 15
    }
   ],
   "metadata": {}
  },
  {
   "cell_type": "code",
   "execution_count": 16,
   "source": [
    "index = 6\n",
    "print(pairwise_score.iloc[index])\n",
    "check = pairwise_score.iloc[index][[\"id_1\", \"id_2\"]].tolist()\n",
    "pointewise_count_info[pointewise_count_info[\"id\"].isin(check)][[\"id\", \"tag_id\", \"category_id\"]]"
   ],
   "outputs": [
    {
     "output_type": "stream",
     "name": "stdout",
     "text": [
      "id_1    7227107789393765376.000\n",
      "id_2    3354019373384056320.000\n",
      "score                     0.700\n",
      "Name: 6, dtype: float64\n"
     ]
    },
    {
     "output_type": "execute_result",
     "data": {
      "text/html": [
       "<div>\n",
       "<style scoped>\n",
       "    .dataframe tbody tr th:only-of-type {\n",
       "        vertical-align: middle;\n",
       "    }\n",
       "\n",
       "    .dataframe tbody tr th {\n",
       "        vertical-align: top;\n",
       "    }\n",
       "\n",
       "    .dataframe thead th {\n",
       "        text-align: right;\n",
       "    }\n",
       "</style>\n",
       "<table border=\"1\" class=\"dataframe\">\n",
       "  <thead>\n",
       "    <tr style=\"text-align: right;\">\n",
       "      <th></th>\n",
       "      <th>id</th>\n",
       "      <th>tag_id</th>\n",
       "      <th>category_id</th>\n",
       "    </tr>\n",
       "  </thead>\n",
       "  <tbody>\n",
       "    <tr>\n",
       "      <th>12</th>\n",
       "      <td>7227107789393765754</td>\n",
       "      <td>[102598, 14973559, 380310, 647240, 810895, 334...</td>\n",
       "      <td>11701</td>\n",
       "    </tr>\n",
       "    <tr>\n",
       "      <th>13</th>\n",
       "      <td>3354019373384056238</td>\n",
       "      <td>[101810, 101882, 5872120, 55807734, 56063073, ...</td>\n",
       "      <td>10504</td>\n",
       "    </tr>\n",
       "  </tbody>\n",
       "</table>\n",
       "</div>"
      ],
      "text/plain": [
       "                     id                                             tag_id  \\\n",
       "12  7227107789393765754  [102598, 14973559, 380310, 647240, 810895, 334...   \n",
       "13  3354019373384056238  [101810, 101882, 5872120, 55807734, 56063073, ...   \n",
       "\n",
       "    category_id  \n",
       "12        11701  \n",
       "13        10504  "
      ]
     },
     "metadata": {},
     "execution_count": 16
    }
   ],
   "metadata": {}
  },
  {
   "cell_type": "markdown",
   "source": [
    "# 拼接数据"
   ],
   "metadata": {}
  },
  {
   "cell_type": "code",
   "execution_count": 17,
   "source": [
    "temp_data_count_df = pointewise_count_info[[\"id\", \"tag_id\", \"category_id\"]]\n",
    "temp_data_count_df.head()"
   ],
   "outputs": [
    {
     "output_type": "execute_result",
     "data": {
      "text/html": [
       "<div>\n",
       "<style scoped>\n",
       "    .dataframe tbody tr th:only-of-type {\n",
       "        vertical-align: middle;\n",
       "    }\n",
       "\n",
       "    .dataframe tbody tr th {\n",
       "        vertical-align: top;\n",
       "    }\n",
       "\n",
       "    .dataframe thead th {\n",
       "        text-align: right;\n",
       "    }\n",
       "</style>\n",
       "<table border=\"1\" class=\"dataframe\">\n",
       "  <thead>\n",
       "    <tr style=\"text-align: right;\">\n",
       "      <th></th>\n",
       "      <th>id</th>\n",
       "      <th>tag_id</th>\n",
       "      <th>category_id</th>\n",
       "    </tr>\n",
       "  </thead>\n",
       "  <tbody>\n",
       "    <tr>\n",
       "      <th>0</th>\n",
       "      <td>2345203561710400875</td>\n",
       "      <td>[81774, 9779785, 55860984, 9597678, 55755306, ...</td>\n",
       "      <td>10802</td>\n",
       "    </tr>\n",
       "    <tr>\n",
       "      <th>1</th>\n",
       "      <td>5344606281729891758</td>\n",
       "      <td>[81774, 723622, 56044756, 55831581, 55860907, ...</td>\n",
       "      <td>10802</td>\n",
       "    </tr>\n",
       "    <tr>\n",
       "      <th>2</th>\n",
       "      <td>759945328762912122</td>\n",
       "      <td>[751495, 503895, 13664258, 643902]</td>\n",
       "      <td>11418</td>\n",
       "    </tr>\n",
       "    <tr>\n",
       "      <th>3</th>\n",
       "      <td>5560784129870034298</td>\n",
       "      <td>[503895, 751495, 13664258, 643902]</td>\n",
       "      <td>11418</td>\n",
       "    </tr>\n",
       "    <tr>\n",
       "      <th>4</th>\n",
       "      <td>2336209090533711226</td>\n",
       "      <td>[1356945, 542699, 680706, 426140]</td>\n",
       "      <td>11508</td>\n",
       "    </tr>\n",
       "  </tbody>\n",
       "</table>\n",
       "</div>"
      ],
      "text/plain": [
       "                    id                                             tag_id  \\\n",
       "0  2345203561710400875  [81774, 9779785, 55860984, 9597678, 55755306, ...   \n",
       "1  5344606281729891758  [81774, 723622, 56044756, 55831581, 55860907, ...   \n",
       "2   759945328762912122                 [751495, 503895, 13664258, 643902]   \n",
       "3  5560784129870034298                 [503895, 751495, 13664258, 643902]   \n",
       "4  2336209090533711226                  [1356945, 542699, 680706, 426140]   \n",
       "\n",
       "   category_id  \n",
       "0        10802  \n",
       "1        10802  \n",
       "2        11418  \n",
       "3        11418  \n",
       "4        11508  "
      ]
     },
     "metadata": {},
     "execution_count": 17
    }
   ],
   "metadata": {}
  },
  {
   "cell_type": "code",
   "execution_count": 18,
   "source": [
    "df1 = pd.merge(left=pairwise_score, right=temp_data_count_df, how='left', left_on='id_1', right_on='id')\n",
    "df1= df1.rename(columns={'tag_id':'tag_id_1','category_id':'category_id_1'})\n",
    "df1 = df1.drop([\"id\"],axis=1)\n",
    "df1.head()"
   ],
   "outputs": [
    {
     "output_type": "execute_result",
     "data": {
      "text/html": [
       "<div>\n",
       "<style scoped>\n",
       "    .dataframe tbody tr th:only-of-type {\n",
       "        vertical-align: middle;\n",
       "    }\n",
       "\n",
       "    .dataframe tbody tr th {\n",
       "        vertical-align: top;\n",
       "    }\n",
       "\n",
       "    .dataframe thead th {\n",
       "        text-align: right;\n",
       "    }\n",
       "</style>\n",
       "<table border=\"1\" class=\"dataframe\">\n",
       "  <thead>\n",
       "    <tr style=\"text-align: right;\">\n",
       "      <th></th>\n",
       "      <th>id_1</th>\n",
       "      <th>id_2</th>\n",
       "      <th>score</th>\n",
       "      <th>tag_id_1</th>\n",
       "      <th>category_id_1</th>\n",
       "    </tr>\n",
       "  </thead>\n",
       "  <tbody>\n",
       "    <tr>\n",
       "      <th>0</th>\n",
       "      <td>2345203561710400875</td>\n",
       "      <td>5344606281729891758</td>\n",
       "      <td>1.000</td>\n",
       "      <td>[81774, 9779785, 55860984, 9597678, 55755306, ...</td>\n",
       "      <td>10802</td>\n",
       "    </tr>\n",
       "    <tr>\n",
       "      <th>1</th>\n",
       "      <td>759945328762912122</td>\n",
       "      <td>5560784129870034298</td>\n",
       "      <td>0.850</td>\n",
       "      <td>[751495, 503895, 13664258, 643902]</td>\n",
       "      <td>11418</td>\n",
       "    </tr>\n",
       "    <tr>\n",
       "      <th>2</th>\n",
       "      <td>2336209090533711226</td>\n",
       "      <td>8010747189096226170</td>\n",
       "      <td>1.000</td>\n",
       "      <td>[1356945, 542699, 680706, 426140]</td>\n",
       "      <td>11508</td>\n",
       "    </tr>\n",
       "    <tr>\n",
       "      <th>3</th>\n",
       "      <td>2588403135132530094</td>\n",
       "      <td>5380633252649788846</td>\n",
       "      <td>0.250</td>\n",
       "      <td>[102598, 14973559, 9712985, 380310, 55754190, ...</td>\n",
       "      <td>11701</td>\n",
       "    </tr>\n",
       "    <tr>\n",
       "      <th>4</th>\n",
       "      <td>3245934094259209594</td>\n",
       "      <td>120437073895839098</td>\n",
       "      <td>1.000</td>\n",
       "      <td>[55812342, 3325524, 445808]</td>\n",
       "      <td>11600</td>\n",
       "    </tr>\n",
       "  </tbody>\n",
       "</table>\n",
       "</div>"
      ],
      "text/plain": [
       "                  id_1                 id_2  score  \\\n",
       "0  2345203561710400875  5344606281729891758  1.000   \n",
       "1   759945328762912122  5560784129870034298  0.850   \n",
       "2  2336209090533711226  8010747189096226170  1.000   \n",
       "3  2588403135132530094  5380633252649788846  0.250   \n",
       "4  3245934094259209594   120437073895839098  1.000   \n",
       "\n",
       "                                            tag_id_1  category_id_1  \n",
       "0  [81774, 9779785, 55860984, 9597678, 55755306, ...          10802  \n",
       "1                 [751495, 503895, 13664258, 643902]          11418  \n",
       "2                  [1356945, 542699, 680706, 426140]          11508  \n",
       "3  [102598, 14973559, 9712985, 380310, 55754190, ...          11701  \n",
       "4                        [55812342, 3325524, 445808]          11600  "
      ]
     },
     "metadata": {},
     "execution_count": 18
    }
   ],
   "metadata": {}
  },
  {
   "cell_type": "code",
   "execution_count": 21,
   "source": [
    "df2 = pd.merge(left=df1, right=temp_data_count_df, how='left', left_on='id_2', right_on='id')\n",
    "df2 = df2.rename(columns={'tag_id':'tag_id_2','category_id':'category_id_2'})\n",
    "df2 = df2.drop([\"id\"],axis=1)\n",
    "df2.head()"
   ],
   "outputs": [
    {
     "output_type": "execute_result",
     "data": {
      "text/html": [
       "<div>\n",
       "<style scoped>\n",
       "    .dataframe tbody tr th:only-of-type {\n",
       "        vertical-align: middle;\n",
       "    }\n",
       "\n",
       "    .dataframe tbody tr th {\n",
       "        vertical-align: top;\n",
       "    }\n",
       "\n",
       "    .dataframe thead th {\n",
       "        text-align: right;\n",
       "    }\n",
       "</style>\n",
       "<table border=\"1\" class=\"dataframe\">\n",
       "  <thead>\n",
       "    <tr style=\"text-align: right;\">\n",
       "      <th></th>\n",
       "      <th>id_1</th>\n",
       "      <th>id_2</th>\n",
       "      <th>score</th>\n",
       "      <th>tag_id_1</th>\n",
       "      <th>category_id_1</th>\n",
       "      <th>tag_id_2</th>\n",
       "      <th>category_id_2</th>\n",
       "    </tr>\n",
       "  </thead>\n",
       "  <tbody>\n",
       "    <tr>\n",
       "      <th>0</th>\n",
       "      <td>2345203561710400875</td>\n",
       "      <td>5344606281729891758</td>\n",
       "      <td>1.000</td>\n",
       "      <td>[81774, 9779785, 55860984, 9597678, 55755306, ...</td>\n",
       "      <td>10802</td>\n",
       "      <td>[81774, 723622, 56044756, 55831581, 55860907, ...</td>\n",
       "      <td>10802</td>\n",
       "    </tr>\n",
       "    <tr>\n",
       "      <th>1</th>\n",
       "      <td>759945328762912122</td>\n",
       "      <td>5560784129870034298</td>\n",
       "      <td>0.850</td>\n",
       "      <td>[751495, 503895, 13664258, 643902]</td>\n",
       "      <td>11418</td>\n",
       "      <td>[503895, 751495, 13664258, 643902]</td>\n",
       "      <td>11418</td>\n",
       "    </tr>\n",
       "    <tr>\n",
       "      <th>2</th>\n",
       "      <td>2336209090533711226</td>\n",
       "      <td>8010747189096226170</td>\n",
       "      <td>1.000</td>\n",
       "      <td>[1356945, 542699, 680706, 426140]</td>\n",
       "      <td>11508</td>\n",
       "      <td>[542699, 680706, 1356945]</td>\n",
       "      <td>11508</td>\n",
       "    </tr>\n",
       "    <tr>\n",
       "      <th>3</th>\n",
       "      <td>2588403135132530094</td>\n",
       "      <td>5380633252649788846</td>\n",
       "      <td>0.250</td>\n",
       "      <td>[102598, 14973559, 9712985, 380310, 55754190, ...</td>\n",
       "      <td>11701</td>\n",
       "      <td>[102598, 14973559, 55813382, 55800585]</td>\n",
       "      <td>11701</td>\n",
       "    </tr>\n",
       "    <tr>\n",
       "      <th>4</th>\n",
       "      <td>3245934094259209594</td>\n",
       "      <td>120437073895839098</td>\n",
       "      <td>1.000</td>\n",
       "      <td>[55812342, 3325524, 445808]</td>\n",
       "      <td>11600</td>\n",
       "      <td>[55812342, 445808, 378846, 3325524]</td>\n",
       "      <td>11600</td>\n",
       "    </tr>\n",
       "  </tbody>\n",
       "</table>\n",
       "</div>"
      ],
      "text/plain": [
       "                  id_1                 id_2  score  \\\n",
       "0  2345203561710400875  5344606281729891758  1.000   \n",
       "1   759945328762912122  5560784129870034298  0.850   \n",
       "2  2336209090533711226  8010747189096226170  1.000   \n",
       "3  2588403135132530094  5380633252649788846  0.250   \n",
       "4  3245934094259209594   120437073895839098  1.000   \n",
       "\n",
       "                                            tag_id_1  category_id_1  \\\n",
       "0  [81774, 9779785, 55860984, 9597678, 55755306, ...          10802   \n",
       "1                 [751495, 503895, 13664258, 643902]          11418   \n",
       "2                  [1356945, 542699, 680706, 426140]          11508   \n",
       "3  [102598, 14973559, 9712985, 380310, 55754190, ...          11701   \n",
       "4                        [55812342, 3325524, 445808]          11600   \n",
       "\n",
       "                                            tag_id_2  category_id_2  \n",
       "0  [81774, 723622, 56044756, 55831581, 55860907, ...          10802  \n",
       "1                 [503895, 751495, 13664258, 643902]          11418  \n",
       "2                          [542699, 680706, 1356945]          11508  \n",
       "3             [102598, 14973559, 55813382, 55800585]          11701  \n",
       "4                [55812342, 445808, 378846, 3325524]          11600  "
      ]
     },
     "metadata": {},
     "execution_count": 21
    }
   ],
   "metadata": {}
  },
  {
   "cell_type": "code",
   "execution_count": 38,
   "source": [
    "# df2.to_csv(\"result/pairwise_score_join.csv\", index=0)"
   ],
   "outputs": [],
   "metadata": {}
  },
  {
   "cell_type": "code",
   "execution_count": 22,
   "source": [
    "df2[\"score\"].hist()"
   ],
   "outputs": [
    {
     "output_type": "execute_result",
     "data": {
      "text/plain": [
       "<AxesSubplot:>"
      ]
     },
     "metadata": {},
     "execution_count": 22
    },
    {
     "output_type": "display_data",
     "data": {
      "image/png": "[encoded data removed]",
      "text/plain": [
       "<Figure size 432x288 with 1 Axes>"
      ]
     },
     "metadata": {
      "needs_background": "light"
     }
    }
   ],
   "metadata": {}
  },
  {
   "cell_type": "code",
   "execution_count": 30,
   "source": [
    "# df2[\"same_level1_category\"] = \n",
    "df2[\"level1_category_same\"] = df2[[\"category_id_1\", \"category_id_2\"]].apply(lambda x: str(x[\"category_id_1\"])[:3]==str(x[\"category_id_2\"])[:3], axis=1)\n",
    "df2[\"level2_category_same\"] = df2[[\"category_id_1\", \"category_id_2\"]].apply(lambda x: x[\"category_id_1\"]==x[\"category_id_2\"], axis=1)\n",
    "df2.head()"
   ],
   "outputs": [
    {
     "output_type": "execute_result",
     "data": {
      "text/html": [
       "<div>\n",
       "<style scoped>\n",
       "    .dataframe tbody tr th:only-of-type {\n",
       "        vertical-align: middle;\n",
       "    }\n",
       "\n",
       "    .dataframe tbody tr th {\n",
       "        vertical-align: top;\n",
       "    }\n",
       "\n",
       "    .dataframe thead th {\n",
       "        text-align: right;\n",
       "    }\n",
       "</style>\n",
       "<table border=\"1\" class=\"dataframe\">\n",
       "  <thead>\n",
       "    <tr style=\"text-align: right;\">\n",
       "      <th></th>\n",
       "      <th>id_1</th>\n",
       "      <th>id_2</th>\n",
       "      <th>score</th>\n",
       "      <th>tag_id_1</th>\n",
       "      <th>category_id_1</th>\n",
       "      <th>tag_id_2</th>\n",
       "      <th>category_id_2</th>\n",
       "      <th>level1_category_same</th>\n",
       "      <th>level2_category_same</th>\n",
       "    </tr>\n",
       "  </thead>\n",
       "  <tbody>\n",
       "    <tr>\n",
       "      <th>0</th>\n",
       "      <td>2345203561710400875</td>\n",
       "      <td>5344606281729891758</td>\n",
       "      <td>1.000</td>\n",
       "      <td>[81774, 9779785, 55860984, 9597678, 55755306, ...</td>\n",
       "      <td>10802</td>\n",
       "      <td>[81774, 723622, 56044756, 55831581, 55860907, ...</td>\n",
       "      <td>10802</td>\n",
       "      <td>True</td>\n",
       "      <td>True</td>\n",
       "    </tr>\n",
       "    <tr>\n",
       "      <th>1</th>\n",
       "      <td>759945328762912122</td>\n",
       "      <td>5560784129870034298</td>\n",
       "      <td>0.850</td>\n",
       "      <td>[751495, 503895, 13664258, 643902]</td>\n",
       "      <td>11418</td>\n",
       "      <td>[503895, 751495, 13664258, 643902]</td>\n",
       "      <td>11418</td>\n",
       "      <td>True</td>\n",
       "      <td>True</td>\n",
       "    </tr>\n",
       "    <tr>\n",
       "      <th>2</th>\n",
       "      <td>2336209090533711226</td>\n",
       "      <td>8010747189096226170</td>\n",
       "      <td>1.000</td>\n",
       "      <td>[1356945, 542699, 680706, 426140]</td>\n",
       "      <td>11508</td>\n",
       "      <td>[542699, 680706, 1356945]</td>\n",
       "      <td>11508</td>\n",
       "      <td>True</td>\n",
       "      <td>True</td>\n",
       "    </tr>\n",
       "    <tr>\n",
       "      <th>3</th>\n",
       "      <td>2588403135132530094</td>\n",
       "      <td>5380633252649788846</td>\n",
       "      <td>0.250</td>\n",
       "      <td>[102598, 14973559, 9712985, 380310, 55754190, ...</td>\n",
       "      <td>11701</td>\n",
       "      <td>[102598, 14973559, 55813382, 55800585]</td>\n",
       "      <td>11701</td>\n",
       "      <td>True</td>\n",
       "      <td>True</td>\n",
       "    </tr>\n",
       "    <tr>\n",
       "      <th>4</th>\n",
       "      <td>3245934094259209594</td>\n",
       "      <td>120437073895839098</td>\n",
       "      <td>1.000</td>\n",
       "      <td>[55812342, 3325524, 445808]</td>\n",
       "      <td>11600</td>\n",
       "      <td>[55812342, 445808, 378846, 3325524]</td>\n",
       "      <td>11600</td>\n",
       "      <td>True</td>\n",
       "      <td>True</td>\n",
       "    </tr>\n",
       "  </tbody>\n",
       "</table>\n",
       "</div>"
      ],
      "text/plain": [
       "                  id_1                 id_2  score  \\\n",
       "0  2345203561710400875  5344606281729891758  1.000   \n",
       "1   759945328762912122  5560784129870034298  0.850   \n",
       "2  2336209090533711226  8010747189096226170  1.000   \n",
       "3  2588403135132530094  5380633252649788846  0.250   \n",
       "4  3245934094259209594   120437073895839098  1.000   \n",
       "\n",
       "                                            tag_id_1  category_id_1  \\\n",
       "0  [81774, 9779785, 55860984, 9597678, 55755306, ...          10802   \n",
       "1                 [751495, 503895, 13664258, 643902]          11418   \n",
       "2                  [1356945, 542699, 680706, 426140]          11508   \n",
       "3  [102598, 14973559, 9712985, 380310, 55754190, ...          11701   \n",
       "4                        [55812342, 3325524, 445808]          11600   \n",
       "\n",
       "                                            tag_id_2  category_id_2  \\\n",
       "0  [81774, 723622, 56044756, 55831581, 55860907, ...          10802   \n",
       "1                 [503895, 751495, 13664258, 643902]          11418   \n",
       "2                          [542699, 680706, 1356945]          11508   \n",
       "3             [102598, 14973559, 55813382, 55800585]          11701   \n",
       "4                [55812342, 445808, 378846, 3325524]          11600   \n",
       "\n",
       "   level1_category_same  level2_category_same  \n",
       "0                  True                  True  \n",
       "1                  True                  True  \n",
       "2                  True                  True  \n",
       "3                  True                  True  \n",
       "4                  True                  True  "
      ]
     },
     "metadata": {},
     "execution_count": 30
    }
   ],
   "metadata": {}
  },
  {
   "cell_type": "code",
   "execution_count": 31,
   "source": [
    "df2.to_csv(\"result/pairwise_score_join.csv\", index=0)"
   ],
   "outputs": [],
   "metadata": {}
  },
  {
   "cell_type": "code",
   "execution_count": 8,
   "source": [
    "\n",
    "df2 = pd.read_csv(\"result/pairwise_score_join.csv\", \n",
    "                  converters={\n",
    "                      'tag_id_1': from_np_array,\n",
    "                      'tag_id_2': from_np_array\n",
    "                  })\n",
    "df2.head()"
   ],
   "outputs": [
    {
     "output_type": "stream",
     "name": "stderr",
     "text": [
      "/tmp/ipykernel_12440/2960218577.py:2: FutureWarning: Possible nested set at position 1\n",
      "  array_string = re.sub(r\"[[\\]]\", \"\", array_string)\n"
     ]
    },
    {
     "output_type": "execute_result",
     "data": {
      "text/html": [
       "<div>\n",
       "<style scoped>\n",
       "    .dataframe tbody tr th:only-of-type {\n",
       "        vertical-align: middle;\n",
       "    }\n",
       "\n",
       "    .dataframe tbody tr th {\n",
       "        vertical-align: top;\n",
       "    }\n",
       "\n",
       "    .dataframe thead th {\n",
       "        text-align: right;\n",
       "    }\n",
       "</style>\n",
       "<table border=\"1\" class=\"dataframe\">\n",
       "  <thead>\n",
       "    <tr style=\"text-align: right;\">\n",
       "      <th></th>\n",
       "      <th>id_1</th>\n",
       "      <th>id_2</th>\n",
       "      <th>score</th>\n",
       "      <th>tag_id_1</th>\n",
       "      <th>category_id_1</th>\n",
       "      <th>tag_id_2</th>\n",
       "      <th>category_id_2</th>\n",
       "      <th>level1_category_same</th>\n",
       "      <th>level2_category_same</th>\n",
       "    </tr>\n",
       "  </thead>\n",
       "  <tbody>\n",
       "    <tr>\n",
       "      <th>0</th>\n",
       "      <td>2345203561710400875</td>\n",
       "      <td>5344606281729891758</td>\n",
       "      <td>1.000</td>\n",
       "      <td>[81774, 9779785, 55860984, 9597678, 55755306, ...</td>\n",
       "      <td>10802</td>\n",
       "      <td>[81774, 723622, 56044756, 55831581, 55860907, ...</td>\n",
       "      <td>10802</td>\n",
       "      <td>True</td>\n",
       "      <td>True</td>\n",
       "    </tr>\n",
       "    <tr>\n",
       "      <th>1</th>\n",
       "      <td>759945328762912122</td>\n",
       "      <td>5560784129870034298</td>\n",
       "      <td>0.850</td>\n",
       "      <td>[751495, 503895, 13664258, 643902]</td>\n",
       "      <td>11418</td>\n",
       "      <td>[503895, 751495, 13664258, 643902]</td>\n",
       "      <td>11418</td>\n",
       "      <td>True</td>\n",
       "      <td>True</td>\n",
       "    </tr>\n",
       "    <tr>\n",
       "      <th>2</th>\n",
       "      <td>2336209090533711226</td>\n",
       "      <td>8010747189096226170</td>\n",
       "      <td>1.000</td>\n",
       "      <td>[1356945, 542699, 680706, 426140]</td>\n",
       "      <td>11508</td>\n",
       "      <td>[542699, 680706, 1356945]</td>\n",
       "      <td>11508</td>\n",
       "      <td>True</td>\n",
       "      <td>True</td>\n",
       "    </tr>\n",
       "    <tr>\n",
       "      <th>3</th>\n",
       "      <td>2588403135132530094</td>\n",
       "      <td>5380633252649788846</td>\n",
       "      <td>0.250</td>\n",
       "      <td>[102598, 14973559, 9712985, 380310, 55754190, ...</td>\n",
       "      <td>11701</td>\n",
       "      <td>[102598, 14973559, 55813382, 55800585]</td>\n",
       "      <td>11701</td>\n",
       "      <td>True</td>\n",
       "      <td>True</td>\n",
       "    </tr>\n",
       "    <tr>\n",
       "      <th>4</th>\n",
       "      <td>3245934094259209594</td>\n",
       "      <td>120437073895839098</td>\n",
       "      <td>1.000</td>\n",
       "      <td>[55812342, 3325524, 445808]</td>\n",
       "      <td>11600</td>\n",
       "      <td>[55812342, 445808, 378846, 3325524]</td>\n",
       "      <td>11600</td>\n",
       "      <td>True</td>\n",
       "      <td>True</td>\n",
       "    </tr>\n",
       "  </tbody>\n",
       "</table>\n",
       "</div>"
      ],
      "text/plain": [
       "                  id_1                 id_2  score  \\\n",
       "0  2345203561710400875  5344606281729891758  1.000   \n",
       "1   759945328762912122  5560784129870034298  0.850   \n",
       "2  2336209090533711226  8010747189096226170  1.000   \n",
       "3  2588403135132530094  5380633252649788846  0.250   \n",
       "4  3245934094259209594   120437073895839098  1.000   \n",
       "\n",
       "                                            tag_id_1  category_id_1  \\\n",
       "0  [81774, 9779785, 55860984, 9597678, 55755306, ...          10802   \n",
       "1                 [751495, 503895, 13664258, 643902]          11418   \n",
       "2                  [1356945, 542699, 680706, 426140]          11508   \n",
       "3  [102598, 14973559, 9712985, 380310, 55754190, ...          11701   \n",
       "4                        [55812342, 3325524, 445808]          11600   \n",
       "\n",
       "                                            tag_id_2  category_id_2  \\\n",
       "0  [81774, 723622, 56044756, 55831581, 55860907, ...          10802   \n",
       "1                 [503895, 751495, 13664258, 643902]          11418   \n",
       "2                          [542699, 680706, 1356945]          11508   \n",
       "3             [102598, 14973559, 55813382, 55800585]          11701   \n",
       "4                [55812342, 445808, 378846, 3325524]          11600   \n",
       "\n",
       "   level1_category_same  level2_category_same  \n",
       "0                  True                  True  \n",
       "1                  True                  True  \n",
       "2                  True                  True  \n",
       "3                  True                  True  \n",
       "4                  True                  True  "
      ]
     },
     "metadata": {},
     "execution_count": 8
    }
   ],
   "metadata": {}
  },
  {
   "cell_type": "code",
   "execution_count": 9,
   "source": [
    "df2[\"tag_same_num\"] = df2[[\"tag_id_1\", \"tag_id_2\"]].apply(lambda x: len(set(x[\"tag_id_1\"])&set(x[\"tag_id_2\"])), axis=1)\n",
    "df2.head()"
   ],
   "outputs": [
    {
     "output_type": "execute_result",
     "data": {
      "text/html": [
       "<div>\n",
       "<style scoped>\n",
       "    .dataframe tbody tr th:only-of-type {\n",
       "        vertical-align: middle;\n",
       "    }\n",
       "\n",
       "    .dataframe tbody tr th {\n",
       "        vertical-align: top;\n",
       "    }\n",
       "\n",
       "    .dataframe thead th {\n",
       "        text-align: right;\n",
       "    }\n",
       "</style>\n",
       "<table border=\"1\" class=\"dataframe\">\n",
       "  <thead>\n",
       "    <tr style=\"text-align: right;\">\n",
       "      <th></th>\n",
       "      <th>id_1</th>\n",
       "      <th>id_2</th>\n",
       "      <th>score</th>\n",
       "      <th>tag_id_1</th>\n",
       "      <th>category_id_1</th>\n",
       "      <th>tag_id_2</th>\n",
       "      <th>category_id_2</th>\n",
       "      <th>level1_category_same</th>\n",
       "      <th>level2_category_same</th>\n",
       "      <th>tag_same_num</th>\n",
       "    </tr>\n",
       "  </thead>\n",
       "  <tbody>\n",
       "    <tr>\n",
       "      <th>0</th>\n",
       "      <td>2345203561710400875</td>\n",
       "      <td>5344606281729891758</td>\n",
       "      <td>1.000</td>\n",
       "      <td>[81774, 9779785, 55860984, 9597678, 55755306, ...</td>\n",
       "      <td>10802</td>\n",
       "      <td>[81774, 723622, 56044756, 55831581, 55860907, ...</td>\n",
       "      <td>10802</td>\n",
       "      <td>True</td>\n",
       "      <td>True</td>\n",
       "      <td>2</td>\n",
       "    </tr>\n",
       "    <tr>\n",
       "      <th>1</th>\n",
       "      <td>759945328762912122</td>\n",
       "      <td>5560784129870034298</td>\n",
       "      <td>0.850</td>\n",
       "      <td>[751495, 503895, 13664258, 643902]</td>\n",
       "      <td>11418</td>\n",
       "      <td>[503895, 751495, 13664258, 643902]</td>\n",
       "      <td>11418</td>\n",
       "      <td>True</td>\n",
       "      <td>True</td>\n",
       "      <td>4</td>\n",
       "    </tr>\n",
       "    <tr>\n",
       "      <th>2</th>\n",
       "      <td>2336209090533711226</td>\n",
       "      <td>8010747189096226170</td>\n",
       "      <td>1.000</td>\n",
       "      <td>[1356945, 542699, 680706, 426140]</td>\n",
       "      <td>11508</td>\n",
       "      <td>[542699, 680706, 1356945]</td>\n",
       "      <td>11508</td>\n",
       "      <td>True</td>\n",
       "      <td>True</td>\n",
       "      <td>3</td>\n",
       "    </tr>\n",
       "    <tr>\n",
       "      <th>3</th>\n",
       "      <td>2588403135132530094</td>\n",
       "      <td>5380633252649788846</td>\n",
       "      <td>0.250</td>\n",
       "      <td>[102598, 14973559, 9712985, 380310, 55754190, ...</td>\n",
       "      <td>11701</td>\n",
       "      <td>[102598, 14973559, 55813382, 55800585]</td>\n",
       "      <td>11701</td>\n",
       "      <td>True</td>\n",
       "      <td>True</td>\n",
       "      <td>2</td>\n",
       "    </tr>\n",
       "    <tr>\n",
       "      <th>4</th>\n",
       "      <td>3245934094259209594</td>\n",
       "      <td>120437073895839098</td>\n",
       "      <td>1.000</td>\n",
       "      <td>[55812342, 3325524, 445808]</td>\n",
       "      <td>11600</td>\n",
       "      <td>[55812342, 445808, 378846, 3325524]</td>\n",
       "      <td>11600</td>\n",
       "      <td>True</td>\n",
       "      <td>True</td>\n",
       "      <td>3</td>\n",
       "    </tr>\n",
       "  </tbody>\n",
       "</table>\n",
       "</div>"
      ],
      "text/plain": [
       "                  id_1                 id_2  score  \\\n",
       "0  2345203561710400875  5344606281729891758  1.000   \n",
       "1   759945328762912122  5560784129870034298  0.850   \n",
       "2  2336209090533711226  8010747189096226170  1.000   \n",
       "3  2588403135132530094  5380633252649788846  0.250   \n",
       "4  3245934094259209594   120437073895839098  1.000   \n",
       "\n",
       "                                            tag_id_1  category_id_1  \\\n",
       "0  [81774, 9779785, 55860984, 9597678, 55755306, ...          10802   \n",
       "1                 [751495, 503895, 13664258, 643902]          11418   \n",
       "2                  [1356945, 542699, 680706, 426140]          11508   \n",
       "3  [102598, 14973559, 9712985, 380310, 55754190, ...          11701   \n",
       "4                        [55812342, 3325524, 445808]          11600   \n",
       "\n",
       "                                            tag_id_2  category_id_2  \\\n",
       "0  [81774, 723622, 56044756, 55831581, 55860907, ...          10802   \n",
       "1                 [503895, 751495, 13664258, 643902]          11418   \n",
       "2                          [542699, 680706, 1356945]          11508   \n",
       "3             [102598, 14973559, 55813382, 55800585]          11701   \n",
       "4                [55812342, 445808, 378846, 3325524]          11600   \n",
       "\n",
       "   level1_category_same  level2_category_same  tag_same_num  \n",
       "0                  True                  True             2  \n",
       "1                  True                  True             4  \n",
       "2                  True                  True             3  \n",
       "3                  True                  True             2  \n",
       "4                  True                  True             3  "
      ]
     },
     "metadata": {},
     "execution_count": 9
    }
   ],
   "metadata": {}
  },
  {
   "cell_type": "code",
   "execution_count": 10,
   "source": [
    "df3 = df2[[\"score\",\"level1_category_same\", \"level2_category_same\",\"tag_same_num\"]]\n",
    "df3.head()"
   ],
   "outputs": [
    {
     "output_type": "execute_result",
     "data": {
      "text/html": [
       "<div>\n",
       "<style scoped>\n",
       "    .dataframe tbody tr th:only-of-type {\n",
       "        vertical-align: middle;\n",
       "    }\n",
       "\n",
       "    .dataframe tbody tr th {\n",
       "        vertical-align: top;\n",
       "    }\n",
       "\n",
       "    .dataframe thead th {\n",
       "        text-align: right;\n",
       "    }\n",
       "</style>\n",
       "<table border=\"1\" class=\"dataframe\">\n",
       "  <thead>\n",
       "    <tr style=\"text-align: right;\">\n",
       "      <th></th>\n",
       "      <th>score</th>\n",
       "      <th>level1_category_same</th>\n",
       "      <th>level2_category_same</th>\n",
       "      <th>tag_same_num</th>\n",
       "    </tr>\n",
       "  </thead>\n",
       "  <tbody>\n",
       "    <tr>\n",
       "      <th>0</th>\n",
       "      <td>1.000</td>\n",
       "      <td>True</td>\n",
       "      <td>True</td>\n",
       "      <td>2</td>\n",
       "    </tr>\n",
       "    <tr>\n",
       "      <th>1</th>\n",
       "      <td>0.850</td>\n",
       "      <td>True</td>\n",
       "      <td>True</td>\n",
       "      <td>4</td>\n",
       "    </tr>\n",
       "    <tr>\n",
       "      <th>2</th>\n",
       "      <td>1.000</td>\n",
       "      <td>True</td>\n",
       "      <td>True</td>\n",
       "      <td>3</td>\n",
       "    </tr>\n",
       "    <tr>\n",
       "      <th>3</th>\n",
       "      <td>0.250</td>\n",
       "      <td>True</td>\n",
       "      <td>True</td>\n",
       "      <td>2</td>\n",
       "    </tr>\n",
       "    <tr>\n",
       "      <th>4</th>\n",
       "      <td>1.000</td>\n",
       "      <td>True</td>\n",
       "      <td>True</td>\n",
       "      <td>3</td>\n",
       "    </tr>\n",
       "  </tbody>\n",
       "</table>\n",
       "</div>"
      ],
      "text/plain": [
       "   score  level1_category_same  level2_category_same  tag_same_num\n",
       "0  1.000                  True                  True             2\n",
       "1  0.850                  True                  True             4\n",
       "2  1.000                  True                  True             3\n",
       "3  0.250                  True                  True             2\n",
       "4  1.000                  True                  True             3"
      ]
     },
     "metadata": {},
     "execution_count": 10
    }
   ],
   "metadata": {}
  },
  {
   "cell_type": "code",
   "execution_count": 14,
   "source": [
    "df3[df3['score']>0.5].hist(column=['tag_same_num'])"
   ],
   "outputs": [
    {
     "output_type": "execute_result",
     "data": {
      "text/plain": [
       "array([[<AxesSubplot:title={'center':'tag_same_num'}>]], dtype=object)"
      ]
     },
     "metadata": {},
     "execution_count": 14
    },
    {
     "output_type": "display_data",
     "data": {
      "image/png": "[encoded data removed]",
      "text/plain": [
       "<Figure size 432x288 with 1 Axes>"
      ]
     },
     "metadata": {
      "needs_background": "light"
     }
    }
   ],
   "metadata": {}
  },
  {
   "cell_type": "code",
   "execution_count": 12,
   "source": [
    "df3[df3['score']==0].hist(column=['tag_same_num'])"
   ],
   "outputs": [
    {
     "output_type": "execute_result",
     "data": {
      "text/plain": [
       "array([[<AxesSubplot:title={'center':'tag_same_num'}>]], dtype=object)"
      ]
     },
     "metadata": {},
     "execution_count": 12
    },
    {
     "output_type": "display_data",
     "data": {
      "image/png": "[encoded data removed]",
      "text/plain": [
       "<Figure size 432x288 with 1 Axes>"
      ]
     },
     "metadata": {
      "needs_background": "light"
     }
    }
   ],
   "metadata": {}
  },
  {
   "cell_type": "code",
   "execution_count": 40,
   "source": [
    "df3.corr(method='spearman')"
   ],
   "outputs": [
    {
     "output_type": "execute_result",
     "data": {
      "text/html": [
       "<div>\n",
       "<style scoped>\n",
       "    .dataframe tbody tr th:only-of-type {\n",
       "        vertical-align: middle;\n",
       "    }\n",
       "\n",
       "    .dataframe tbody tr th {\n",
       "        vertical-align: top;\n",
       "    }\n",
       "\n",
       "    .dataframe thead th {\n",
       "        text-align: right;\n",
       "    }\n",
       "</style>\n",
       "<table border=\"1\" class=\"dataframe\">\n",
       "  <thead>\n",
       "    <tr style=\"text-align: right;\">\n",
       "      <th></th>\n",
       "      <th>score</th>\n",
       "      <th>level1_category_same</th>\n",
       "      <th>level2_category_same</th>\n",
       "      <th>tag_same_num</th>\n",
       "    </tr>\n",
       "  </thead>\n",
       "  <tbody>\n",
       "    <tr>\n",
       "      <th>score</th>\n",
       "      <td>1.000</td>\n",
       "      <td>0.341</td>\n",
       "      <td>0.330</td>\n",
       "      <td>0.487</td>\n",
       "    </tr>\n",
       "    <tr>\n",
       "      <th>level1_category_same</th>\n",
       "      <td>0.341</td>\n",
       "      <td>1.000</td>\n",
       "      <td>0.842</td>\n",
       "      <td>0.512</td>\n",
       "    </tr>\n",
       "    <tr>\n",
       "      <th>level2_category_same</th>\n",
       "      <td>0.330</td>\n",
       "      <td>0.842</td>\n",
       "      <td>1.000</td>\n",
       "      <td>0.490</td>\n",
       "    </tr>\n",
       "    <tr>\n",
       "      <th>tag_same_num</th>\n",
       "      <td>0.487</td>\n",
       "      <td>0.512</td>\n",
       "      <td>0.490</td>\n",
       "      <td>1.000</td>\n",
       "    </tr>\n",
       "  </tbody>\n",
       "</table>\n",
       "</div>"
      ],
      "text/plain": [
       "                      score  level1_category_same  level2_category_same  \\\n",
       "score                 1.000                 0.341                 0.330   \n",
       "level1_category_same  0.341                 1.000                 0.842   \n",
       "level2_category_same  0.330                 0.842                 1.000   \n",
       "tag_same_num          0.487                 0.512                 0.490   \n",
       "\n",
       "                      tag_same_num  \n",
       "score                        0.487  \n",
       "level1_category_same         0.512  \n",
       "level2_category_same         0.490  \n",
       "tag_same_num                 1.000  "
      ]
     },
     "metadata": {},
     "execution_count": 40
    }
   ],
   "metadata": {}
  },
  {
   "cell_type": "code",
   "execution_count": 42,
   "source": [
    "df3.corr(method='pearson')"
   ],
   "outputs": [
    {
     "output_type": "execute_result",
     "data": {
      "text/html": [
       "<div>\n",
       "<style scoped>\n",
       "    .dataframe tbody tr th:only-of-type {\n",
       "        vertical-align: middle;\n",
       "    }\n",
       "\n",
       "    .dataframe tbody tr th {\n",
       "        vertical-align: top;\n",
       "    }\n",
       "\n",
       "    .dataframe thead th {\n",
       "        text-align: right;\n",
       "    }\n",
       "</style>\n",
       "<table border=\"1\" class=\"dataframe\">\n",
       "  <thead>\n",
       "    <tr style=\"text-align: right;\">\n",
       "      <th></th>\n",
       "      <th>score</th>\n",
       "      <th>level1_category_same</th>\n",
       "      <th>level2_category_same</th>\n",
       "      <th>tag_same_num</th>\n",
       "    </tr>\n",
       "  </thead>\n",
       "  <tbody>\n",
       "    <tr>\n",
       "      <th>score</th>\n",
       "      <td>1.000</td>\n",
       "      <td>0.305</td>\n",
       "      <td>0.298</td>\n",
       "      <td>0.469</td>\n",
       "    </tr>\n",
       "    <tr>\n",
       "      <th>level1_category_same</th>\n",
       "      <td>0.305</td>\n",
       "      <td>1.000</td>\n",
       "      <td>0.842</td>\n",
       "      <td>0.439</td>\n",
       "    </tr>\n",
       "    <tr>\n",
       "      <th>level2_category_same</th>\n",
       "      <td>0.298</td>\n",
       "      <td>0.842</td>\n",
       "      <td>1.000</td>\n",
       "      <td>0.419</td>\n",
       "    </tr>\n",
       "    <tr>\n",
       "      <th>tag_same_num</th>\n",
       "      <td>0.469</td>\n",
       "      <td>0.439</td>\n",
       "      <td>0.419</td>\n",
       "      <td>1.000</td>\n",
       "    </tr>\n",
       "  </tbody>\n",
       "</table>\n",
       "</div>"
      ],
      "text/plain": [
       "                      score  level1_category_same  level2_category_same  \\\n",
       "score                 1.000                 0.305                 0.298   \n",
       "level1_category_same  0.305                 1.000                 0.842   \n",
       "level2_category_same  0.298                 0.842                 1.000   \n",
       "tag_same_num          0.469                 0.439                 0.419   \n",
       "\n",
       "                      tag_same_num  \n",
       "score                        0.469  \n",
       "level1_category_same         0.439  \n",
       "level2_category_same         0.419  \n",
       "tag_same_num                 1.000  "
      ]
     },
     "metadata": {},
     "execution_count": 42
    }
   ],
   "metadata": {}
  },
  {
   "cell_type": "code",
   "execution_count": 41,
   "source": [
    "df3.corr(method='kendall')"
   ],
   "outputs": [
    {
     "output_type": "execute_result",
     "data": {
      "text/html": [
       "<div>\n",
       "<style scoped>\n",
       "    .dataframe tbody tr th:only-of-type {\n",
       "        vertical-align: middle;\n",
       "    }\n",
       "\n",
       "    .dataframe tbody tr th {\n",
       "        vertical-align: top;\n",
       "    }\n",
       "\n",
       "    .dataframe thead th {\n",
       "        text-align: right;\n",
       "    }\n",
       "</style>\n",
       "<table border=\"1\" class=\"dataframe\">\n",
       "  <thead>\n",
       "    <tr style=\"text-align: right;\">\n",
       "      <th></th>\n",
       "      <th>score</th>\n",
       "      <th>level1_category_same</th>\n",
       "      <th>level2_category_same</th>\n",
       "      <th>tag_same_num</th>\n",
       "    </tr>\n",
       "  </thead>\n",
       "  <tbody>\n",
       "    <tr>\n",
       "      <th>score</th>\n",
       "      <td>1.000</td>\n",
       "      <td>-0.491</td>\n",
       "      <td>-0.419</td>\n",
       "      <td>0.142</td>\n",
       "    </tr>\n",
       "    <tr>\n",
       "      <th>level1_category_same</th>\n",
       "      <td>-0.491</td>\n",
       "      <td>1.000</td>\n",
       "      <td>-0.276</td>\n",
       "      <td>-0.026</td>\n",
       "    </tr>\n",
       "    <tr>\n",
       "      <th>level2_category_same</th>\n",
       "      <td>-0.419</td>\n",
       "      <td>-0.276</td>\n",
       "      <td>1.000</td>\n",
       "      <td>0.169</td>\n",
       "    </tr>\n",
       "    <tr>\n",
       "      <th>tag_same_num</th>\n",
       "      <td>0.142</td>\n",
       "      <td>-0.026</td>\n",
       "      <td>0.169</td>\n",
       "      <td>1.000</td>\n",
       "    </tr>\n",
       "  </tbody>\n",
       "</table>\n",
       "</div>"
      ],
      "text/plain": [
       "                      score  level1_category_same  level2_category_same  \\\n",
       "score                 1.000                -0.491                -0.419   \n",
       "level1_category_same -0.491                 1.000                -0.276   \n",
       "level2_category_same -0.419                -0.276                 1.000   \n",
       "tag_same_num          0.142                -0.026                 0.169   \n",
       "\n",
       "                      tag_same_num  \n",
       "score                        0.142  \n",
       "level1_category_same        -0.026  \n",
       "level2_category_same         0.169  \n",
       "tag_same_num                 1.000  "
      ]
     },
     "metadata": {},
     "execution_count": 41
    }
   ],
   "metadata": {}
  },
  {
   "cell_type": "code",
   "execution_count": 83,
   "source": [
    "df2[\"same_category\"].astype(float).hist()"
   ],
   "outputs": [
    {
     "output_type": "execute_result",
     "data": {
      "text/plain": [
       "<AxesSubplot:>"
      ]
     },
     "metadata": {},
     "execution_count": 83
    },
    {
     "output_type": "display_data",
     "data": {
      "image/png": "[encoded data removed]",
      "text/plain": [
       "<Figure size 432x288 with 1 Axes>"
      ]
     },
     "metadata": {
      "needs_background": "light"
     }
    }
   ],
   "metadata": {}
  },
  {
   "cell_type": "code",
   "execution_count": 85,
   "source": [
    "df2[df2[\"same_category\"]==False][\"score\"].hist()"
   ],
   "outputs": [
    {
     "output_type": "execute_result",
     "data": {
      "text/plain": [
       "<AxesSubplot:>"
      ]
     },
     "metadata": {},
     "execution_count": 85
    },
    {
     "output_type": "display_data",
     "data": {
      "image/png": "[encoded data removed]",
      "text/plain": [
       "<Figure size 432x288 with 1 Axes>"
      ]
     },
     "metadata": {
      "needs_background": "light"
     }
    }
   ],
   "metadata": {}
  },
  {
   "cell_type": "code",
   "execution_count": 84,
   "source": [
    "df2[df2[\"same_category\"]==True][\"score\"].hist()"
   ],
   "outputs": [
    {
     "output_type": "execute_result",
     "data": {
      "text/plain": [
       "<AxesSubplot:>"
      ]
     },
     "metadata": {},
     "execution_count": 84
    },
    {
     "output_type": "display_data",
     "data": {
      "image/png": "[encoded data removed]",
      "text/plain": [
       "<Figure size 432x288 with 1 Axes>"
      ]
     },
     "metadata": {
      "needs_background": "light"
     }
    }
   ],
   "metadata": {}
  },
  {
   "cell_type": "code",
   "execution_count": 69,
   "source": [
    "zero_df2 = df2[df2[\"score\"]<=0]\n",
    "zero_df2[\"same_category\"].astype(float).hist()"
   ],
   "outputs": [
    {
     "output_type": "execute_result",
     "data": {
      "text/plain": [
       "<AxesSubplot:>"
      ]
     },
     "metadata": {},
     "execution_count": 69
    },
    {
     "output_type": "display_data",
     "data": {
      "image/png": "[encoded data removed]",
      "text/plain": [
       "<Figure size 432x288 with 1 Axes>"
      ]
     },
     "metadata": {
      "needs_background": "light"
     }
    }
   ],
   "metadata": {}
  },
  {
   "cell_type": "code",
   "execution_count": 80,
   "source": [
    "h_df2 = df2[(df2[\"score\"]>0)&(df2[\"score\"]<0.5)]\n",
    "h_df2[\"same_category\"].astype(float).hist()"
   ],
   "outputs": [
    {
     "output_type": "execute_result",
     "data": {
      "text/plain": [
       "<AxesSubplot:>"
      ]
     },
     "metadata": {},
     "execution_count": 80
    },
    {
     "output_type": "display_data",
     "data": {
      "image/png": "[encoded data removed]",
      "text/plain": [
       "<Figure size 432x288 with 1 Axes>"
      ]
     },
     "metadata": {
      "needs_background": "light"
     }
    }
   ],
   "metadata": {}
  },
  {
   "cell_type": "code",
   "execution_count": 79,
   "source": [
    "h_df2 = df2[(df2[\"score\"]>=0.5)&(df2[\"score\"]<1)]\n",
    "h_df2[\"same_category\"].astype(float).hist()"
   ],
   "outputs": [
    {
     "output_type": "execute_result",
     "data": {
      "text/plain": [
       "<AxesSubplot:>"
      ]
     },
     "metadata": {},
     "execution_count": 79
    },
    {
     "output_type": "display_data",
     "data": {
      "image/png": "[encoded data removed]",
      "text/plain": [
       "<Figure size 432x288 with 1 Axes>"
      ]
     },
     "metadata": {
      "needs_background": "light"
     }
    }
   ],
   "metadata": {}
  },
  {
   "cell_type": "code",
   "execution_count": 81,
   "source": [
    "zero_df2 = df2[df2[\"score\"]==1]\n",
    "zero_df2[\"same_category\"].astype(float).hist()"
   ],
   "outputs": [
    {
     "output_type": "execute_result",
     "data": {
      "text/plain": [
       "<AxesSubplot:>"
      ]
     },
     "metadata": {},
     "execution_count": 81
    },
    {
     "output_type": "display_data",
     "data": {
      "image/png": "[encoded data removed]",
      "text/plain": [
       "<Figure size 432x288 with 1 Axes>"
      ]
     },
     "metadata": {
      "needs_background": "light"
     }
    }
   ],
   "metadata": {}
  }
 ],
 "metadata": {
  "orig_nbformat": 4,
  "language_info": {
   "name": "python",
   "version": "3.8.5",
   "mimetype": "text/x-python",
   "codemirror_mode": {
    "name": "ipython",
    "version": 3
   },
   "pygments_lexer": "ipython3",
   "nbconvert_exporter": "python",
   "file_extension": ".py"
  },
  "kernelspec": {
   "name": "python3",
   "display_name": "Python 3.8.5 64-bit ('.venv': venv)"
  },
  "interpreter": {
   "hash": "bd84cb099b5853e994521b5fc3d31858ed77b92f95ab2fb7ec710c06d2963baf"
  }
 },
 "nbformat": 4,
 "nbformat_minor": 2
}