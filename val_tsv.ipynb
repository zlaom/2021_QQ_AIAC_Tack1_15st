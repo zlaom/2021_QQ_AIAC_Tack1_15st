{
 "cells": [
  {
   "cell_type": "code",
   "execution_count": 21,
   "metadata": {},
   "outputs": [
    {
     "name": "stdout",
     "output_type": "stream",
     "text": [
      "67899\n",
      "the ratio for val is 0.0617\n",
      "63708 4191 67899\n",
      "saving done !\n"
     ]
    }
   ],
   "source": [
    "import csv\n",
    "import random\n",
    "def generate(label_path, train_save_path, val_save_path, rate=0.8):\n",
    "    all_id = []\n",
    "    with open(label_path, 'r') as f:\n",
    "            lines = f.readlines()\n",
    "            for line in lines:\n",
    "                line = line.strip()\n",
    "                id1, id2, score = line.split('\\t')\n",
    "                all_id.append([id1, id2, score])\n",
    "    \n",
    "    id_train_set = set()\n",
    "    random.shuffle(all_id)\n",
    "    l = int(len(all_id) * rate)\n",
    "    print(len(all_id))\n",
    "    id_train = [_ for _ in all_id[:l]]\n",
    "    \n",
    "    id_val = []\n",
    "    for id1, id2, score in id_train:\n",
    "        id_train_set.add(id1)\n",
    "        id_train_set.add(id2)\n",
    "    for id1, id2, score in all_id[l:]:\n",
    "        if (id1 not in id_train_set) and (id2 not in id_train_set):\n",
    "            id_val.append([id1, id2, score])\n",
    "        else:\n",
    "            id_train.append([id1, id2, score])\n",
    "    print('the ratio for val is {:.4f}'.format(len(id_val) / len(all_id)))\n",
    "    print(len(id_train), len(id_val), len(all_id))\n",
    "    with open(train_save_path, 'w') as f:\n",
    "        writer = csv.writer(f)\n",
    "        writer.writerows(id_train)\n",
    "    with open(val_save_path, 'w') as f:\n",
    "        writer = csv.writer(f)\n",
    "        writer.writerows(id_val)\n",
    "    print('saving done !')\n",
    "\n",
    "label_path = './data/pairwise/label.tsv'\n",
    "train_save_path = './k_fold_data/fold_train.csv'\n",
    "val_save_path = './k_fold_data/fold_val.csv'\n",
    "\n",
    "generate(label_path, train_save_path, val_save_path)"
   ]
  },
  {
   "cell_type": "code",
   "execution_count": null,
   "metadata": {},
   "outputs": [],
   "source": []
  },
  {
   "cell_type": "code",
   "execution_count": 26,
   "metadata": {},
   "outputs": [],
   "source": [
    "import collections\n",
    "def divide(tuple_list):\n",
    "  list_set = []\n",
    "  near_list = collections.defaultdict(list)\n",
    "  for id1, id2, score in tuple_list:\n",
    "    near_list[id1].append(id2)\n",
    "    near_list[id2].append(id1)\n",
    "  \n",
    "  def dfs(visit, id, near_list):\n",
    "    if id in visit:\n",
    "      return \n",
    "    visit.add(id)\n",
    "    for next_id in near_list[id]:\n",
    "      dfs(visit, next_id, near_list)\n",
    "  \n",
    "  visit = set()\n",
    "  for id in near_list:\n",
    "    if id in visit:\n",
    "      continue\n",
    "    new_visit = set()\n",
    "    dfs(new_visit, id, near_list)\n",
    "    visit |= new_visit\n",
    "    list_set.append(new_visit)\n",
    "  count = 0\n",
    "  for set1 in list_set:\n",
    "    for id in set1:\n",
    "      count += 1\n",
    "  print('graph of count = ', len(list_set))\n",
    "  print(count)\n",
    "  print(len(tuple_list))\n",
    "  info = []\n",
    "  for g_id, g_list in enumerate(list_set):\n",
    "    for id in g_list:\n",
    "      info.append((id, g_id))\n",
    "  info_df = pd.DataFrame(info, columns=[\"id\", \"g_id\"])\n",
    "  info_df.to_csv(\"result/graph_info.csv\", index=0)"
   ]
  },
  {
   "cell_type": "code",
   "execution_count": 27,
   "metadata": {},
   "outputs": [],
   "source": [
    "\n",
    "all_id = []\n",
    "label_path = './data/pairwise/label.tsv'\n",
    "with open(label_path, 'r') as f:\n",
    "    lines = f.readlines()\n",
    "    for line in lines:\n",
    "        line = line.strip()\n",
    "        id1, id2, score = line.split('\\t')\n",
    "        all_id.append([id1, id2, score])\n",
    "\n"
   ]
  },
  {
   "cell_type": "code",
   "execution_count": 28,
   "metadata": {},
   "outputs": [
    {
     "name": "stdout",
     "output_type": "stream",
     "text": [
      "graph of count =  22040\n",
      "63613\n",
      "67899\n"
     ]
    }
   ],
   "source": [
    "\n",
    "import sys  # 导入sys模块\n",
    "sys.setrecursionlimit(300000)  # 将默认的递归深度修改为3000\n",
    "divide(all_id)"
   ]
  },
  {
   "cell_type": "code",
   "execution_count": 34,
   "metadata": {},
   "outputs": [
    {
     "data": {
      "text/html": [
       "<div>\n",
       "<style scoped>\n",
       "    .dataframe tbody tr th:only-of-type {\n",
       "        vertical-align: middle;\n",
       "    }\n",
       "\n",
       "    .dataframe tbody tr th {\n",
       "        vertical-align: top;\n",
       "    }\n",
       "\n",
       "    .dataframe thead th {\n",
       "        text-align: right;\n",
       "    }\n",
       "</style>\n",
       "<table border=\"1\" class=\"dataframe\">\n",
       "  <thead>\n",
       "    <tr style=\"text-align: right;\">\n",
       "      <th></th>\n",
       "      <th>id</th>\n",
       "      <th>g_id</th>\n",
       "    </tr>\n",
       "  </thead>\n",
       "  <tbody>\n",
       "    <tr>\n",
       "      <th>0</th>\n",
       "      <td>1678680891334647162</td>\n",
       "      <td>0</td>\n",
       "    </tr>\n",
       "    <tr>\n",
       "      <th>1</th>\n",
       "      <td>5254540759602646446</td>\n",
       "      <td>0</td>\n",
       "    </tr>\n",
       "    <tr>\n",
       "      <th>2</th>\n",
       "      <td>5650850144185148846</td>\n",
       "      <td>0</td>\n",
       "    </tr>\n",
       "    <tr>\n",
       "      <th>3</th>\n",
       "      <td>1462507261765473658</td>\n",
       "      <td>0</td>\n",
       "    </tr>\n",
       "    <tr>\n",
       "      <th>4</th>\n",
       "      <td>4443891407593706926</td>\n",
       "      <td>0</td>\n",
       "    </tr>\n",
       "  </tbody>\n",
       "</table>\n",
       "</div>"
      ],
      "text/plain": [
       "                    id  g_id\n",
       "0  1678680891334647162     0\n",
       "1  5254540759602646446     0\n",
       "2  5650850144185148846     0\n",
       "3  1462507261765473658     0\n",
       "4  4443891407593706926     0"
      ]
     },
     "execution_count": 34,
     "metadata": {},
     "output_type": "execute_result"
    }
   ],
   "source": [
    "g_info = pd.read_csv(\"result/graph_info.csv\")\n",
    "g_info.head()"
   ]
  },
  {
   "cell_type": "code",
   "execution_count": 35,
   "metadata": {},
   "outputs": [
    {
     "data": {
      "text/plain": [
       "<AxesSubplot:>"
      ]
     },
     "execution_count": 35,
     "metadata": {},
     "output_type": "execute_result"
    },
    {
     "data": {
      "image/png": "[encoded data removed]",
      "text/plain": [
       "<Figure size 432x288 with 1 Axes>"
      ]
     },
     "metadata": {
      "needs_background": "light"
     },
     "output_type": "display_data"
    }
   ],
   "source": [
    "# g_info = g_info.groupby('g_id')\n",
    "g_info['g_id'].hist()"
   ]
  },
  {
   "cell_type": "code",
   "execution_count": 1,
   "metadata": {},
   "outputs": [
    {
     "data": {
      "text/html": [
       "<div>\n",
       "<style scoped>\n",
       "    .dataframe tbody tr th:only-of-type {\n",
       "        vertical-align: middle;\n",
       "    }\n",
       "\n",
       "    .dataframe tbody tr th {\n",
       "        vertical-align: top;\n",
       "    }\n",
       "\n",
       "    .dataframe thead th {\n",
       "        text-align: right;\n",
       "    }\n",
       "</style>\n",
       "<table border=\"1\" class=\"dataframe\">\n",
       "  <thead>\n",
       "    <tr style=\"text-align: right;\">\n",
       "      <th></th>\n",
       "      <th>id</th>\n",
       "      <th>g_id</th>\n",
       "    </tr>\n",
       "  </thead>\n",
       "  <tbody>\n",
       "    <tr>\n",
       "      <th>0</th>\n",
       "      <td>1678680891334647162</td>\n",
       "      <td>0</td>\n",
       "    </tr>\n",
       "    <tr>\n",
       "      <th>1</th>\n",
       "      <td>5254540759602646446</td>\n",
       "      <td>0</td>\n",
       "    </tr>\n",
       "    <tr>\n",
       "      <th>2</th>\n",
       "      <td>5650850144185148846</td>\n",
       "      <td>0</td>\n",
       "    </tr>\n",
       "    <tr>\n",
       "      <th>3</th>\n",
       "      <td>1462507261765473658</td>\n",
       "      <td>0</td>\n",
       "    </tr>\n",
       "    <tr>\n",
       "      <th>4</th>\n",
       "      <td>4443891407593706926</td>\n",
       "      <td>0</td>\n",
       "    </tr>\n",
       "  </tbody>\n",
       "</table>\n",
       "</div>"
      ],
      "text/plain": [
       "                    id  g_id\n",
       "0  1678680891334647162     0\n",
       "1  5254540759602646446     0\n",
       "2  5650850144185148846     0\n",
       "3  1462507261765473658     0\n",
       "4  4443891407593706926     0"
      ]
     },
     "execution_count": 1,
     "metadata": {},
     "output_type": "execute_result"
    }
   ],
   "source": [
    "import pandas as pd\n",
    "g_info = pd.read_csv(\"result/graph_info.csv\")\n",
    "g_info.head()"
   ]
  },
  {
   "cell_type": "code",
   "execution_count": 4,
   "metadata": {},
   "outputs": [
    {
     "data": {
      "text/plain": [
       "<AxesSubplot:>"
      ]
     },
     "execution_count": 4,
     "metadata": {},
     "output_type": "execute_result"
    },
    {
     "data": {
      "image/png": "[encoded data removed]",
      "text/plain": [
       "<Figure size 432x288 with 1 Axes>"
      ]
     },
     "metadata": {
      "needs_background": "light"
     },
     "output_type": "display_data"
    }
   ],
   "source": [
    "g_info['g_id'].hist()"
   ]
  },
  {
   "cell_type": "code",
   "execution_count": 32,
   "metadata": {},
   "outputs": [
    {
     "name": "stdout",
     "output_type": "stream",
     "text": [
      "1\n",
      "4565\n",
      "6001\n",
      "6001\n",
      "5472\n",
      "[16664, 12001, 12002, 12002, 10944]\n"
     ]
    }
   ],
   "source": [
    "import random\n",
    "g_counts = g_info['g_id'].value_counts()\n",
    "g_counts_list = list(zip(g_counts.index, g_counts.values))\n",
    "count = 0\n",
    "end = []\n",
    "tmp = []\n",
    "count_sum = []\n",
    "# random.shuffle(g_counts_list[1:])\n",
    "for index, value in g_counts_list:\n",
    "    tmp.append(index)\n",
    "    if count + value > 12000:\n",
    "        end.append(tmp[:])\n",
    "        count_sum.append(count + value)\n",
    "        tmp = []\n",
    "        count = 0\n",
    "    else:\n",
    "        count += value\n",
    "end.append(tmp[:])\n",
    "count_sum.append(count)\n",
    "for i in end:\n",
    "    print(len(i))\n",
    "# print(end)\n",
    "print(count_sum)\n",
    "\n"
   ]
  },
  {
   "cell_type": "code",
   "execution_count": 2,
   "metadata": {},
   "outputs": [
    {
     "data": {
      "text/html": [
       "<div>\n",
       "<style scoped>\n",
       "    .dataframe tbody tr th:only-of-type {\n",
       "        vertical-align: middle;\n",
       "    }\n",
       "\n",
       "    .dataframe tbody tr th {\n",
       "        vertical-align: top;\n",
       "    }\n",
       "\n",
       "    .dataframe thead th {\n",
       "        text-align: right;\n",
       "    }\n",
       "</style>\n",
       "<table border=\"1\" class=\"dataframe\">\n",
       "  <thead>\n",
       "    <tr style=\"text-align: right;\">\n",
       "      <th></th>\n",
       "      <th>id_1</th>\n",
       "      <th>id_2</th>\n",
       "      <th>score</th>\n",
       "    </tr>\n",
       "  </thead>\n",
       "  <tbody>\n",
       "    <tr>\n",
       "      <th>0</th>\n",
       "      <td>2345203561710400875</td>\n",
       "      <td>5344606281729891758</td>\n",
       "      <td>1.00</td>\n",
       "    </tr>\n",
       "    <tr>\n",
       "      <th>1</th>\n",
       "      <td>759945328762912122</td>\n",
       "      <td>5560784129870034298</td>\n",
       "      <td>0.85</td>\n",
       "    </tr>\n",
       "    <tr>\n",
       "      <th>2</th>\n",
       "      <td>2336209090533711226</td>\n",
       "      <td>8010747189096226170</td>\n",
       "      <td>1.00</td>\n",
       "    </tr>\n",
       "    <tr>\n",
       "      <th>3</th>\n",
       "      <td>2588403135132530094</td>\n",
       "      <td>5380633252649788846</td>\n",
       "      <td>0.25</td>\n",
       "    </tr>\n",
       "    <tr>\n",
       "      <th>4</th>\n",
       "      <td>3245934094259209594</td>\n",
       "      <td>120437073895839098</td>\n",
       "      <td>1.00</td>\n",
       "    </tr>\n",
       "  </tbody>\n",
       "</table>\n",
       "</div>"
      ],
      "text/plain": [
       "                  id_1                 id_2  score\n",
       "0  2345203561710400875  5344606281729891758   1.00\n",
       "1   759945328762912122  5560784129870034298   0.85\n",
       "2  2336209090533711226  8010747189096226170   1.00\n",
       "3  2588403135132530094  5380633252649788846   0.25\n",
       "4  3245934094259209594   120437073895839098   1.00"
      ]
     },
     "execution_count": 2,
     "metadata": {},
     "output_type": "execute_result"
    }
   ],
   "source": [
    "pairwise_score = pd.read_csv(\"result/pairwise_score.csv\")\n",
    "pairwise_score.head()"
   ]
  },
  {
   "cell_type": "code",
   "execution_count": 1,
   "metadata": {},
   "outputs": [
    {
     "data": {
      "text/html": [
       "<div>\n",
       "<style scoped>\n",
       "    .dataframe tbody tr th:only-of-type {\n",
       "        vertical-align: middle;\n",
       "    }\n",
       "\n",
       "    .dataframe tbody tr th {\n",
       "        vertical-align: top;\n",
       "    }\n",
       "\n",
       "    .dataframe thead th {\n",
       "        text-align: right;\n",
       "    }\n",
       "</style>\n",
       "<table border=\"1\" class=\"dataframe\">\n",
       "  <thead>\n",
       "    <tr style=\"text-align: right;\">\n",
       "      <th></th>\n",
       "      <th>id_1</th>\n",
       "      <th>id_2</th>\n",
       "      <th>score</th>\n",
       "    </tr>\n",
       "  </thead>\n",
       "  <tbody>\n",
       "    <tr>\n",
       "      <th>0</th>\n",
       "      <td>2345203561710400875</td>\n",
       "      <td>5344606281729891758</td>\n",
       "      <td>1.00</td>\n",
       "    </tr>\n",
       "    <tr>\n",
       "      <th>1</th>\n",
       "      <td>759945328762912122</td>\n",
       "      <td>5560784129870034298</td>\n",
       "      <td>0.85</td>\n",
       "    </tr>\n",
       "    <tr>\n",
       "      <th>2</th>\n",
       "      <td>2336209090533711226</td>\n",
       "      <td>8010747189096226170</td>\n",
       "      <td>1.00</td>\n",
       "    </tr>\n",
       "    <tr>\n",
       "      <th>3</th>\n",
       "      <td>2588403135132530094</td>\n",
       "      <td>5380633252649788846</td>\n",
       "      <td>0.25</td>\n",
       "    </tr>\n",
       "    <tr>\n",
       "      <th>4</th>\n",
       "      <td>3245934094259209594</td>\n",
       "      <td>120437073895839098</td>\n",
       "      <td>1.00</td>\n",
       "    </tr>\n",
       "  </tbody>\n",
       "</table>\n",
       "</div>"
      ],
      "text/plain": [
       "                  id_1                 id_2  score\n",
       "0  2345203561710400875  5344606281729891758   1.00\n",
       "1   759945328762912122  5560784129870034298   0.85\n",
       "2  2336209090533711226  8010747189096226170   1.00\n",
       "3  2588403135132530094  5380633252649788846   0.25\n",
       "4  3245934094259209594   120437073895839098   1.00"
      ]
     },
     "execution_count": 1,
     "metadata": {},
     "output_type": "execute_result"
    }
   ],
   "source": [
    "import pandas as pd\n",
    "pairwise_score = pd.read_csv(\"result/pairwise_score.csv\")\n",
    "pairwise_score.head()"
   ]
  },
  {
   "cell_type": "code",
   "execution_count": 2,
   "metadata": {},
   "outputs": [
    {
     "data": {
      "text/html": [
       "<div>\n",
       "<style scoped>\n",
       "    .dataframe tbody tr th:only-of-type {\n",
       "        vertical-align: middle;\n",
       "    }\n",
       "\n",
       "    .dataframe tbody tr th {\n",
       "        vertical-align: top;\n",
       "    }\n",
       "\n",
       "    .dataframe thead th {\n",
       "        text-align: right;\n",
       "    }\n",
       "</style>\n",
       "<table border=\"1\" class=\"dataframe\">\n",
       "  <thead>\n",
       "    <tr style=\"text-align: right;\">\n",
       "      <th></th>\n",
       "      <th>id_1</th>\n",
       "      <th>id_2</th>\n",
       "      <th>score</th>\n",
       "    </tr>\n",
       "  </thead>\n",
       "  <tbody>\n",
       "    <tr>\n",
       "      <th>47019</th>\n",
       "      <td>5948098268056849786</td>\n",
       "      <td>1489534546038654382</td>\n",
       "      <td>0.50</td>\n",
       "    </tr>\n",
       "    <tr>\n",
       "      <th>67160</th>\n",
       "      <td>1444471203054691758</td>\n",
       "      <td>30359730352438702</td>\n",
       "      <td>1.00</td>\n",
       "    </tr>\n",
       "    <tr>\n",
       "      <th>51793</th>\n",
       "      <td>1687686739764616622</td>\n",
       "      <td>3714302657193532846</td>\n",
       "      <td>0.00</td>\n",
       "    </tr>\n",
       "    <tr>\n",
       "      <th>123</th>\n",
       "      <td>1462507362235565419</td>\n",
       "      <td>3804367760910527918</td>\n",
       "      <td>0.10</td>\n",
       "    </tr>\n",
       "    <tr>\n",
       "      <th>21108</th>\n",
       "      <td>12324978793823662</td>\n",
       "      <td>3525151472894434734</td>\n",
       "      <td>0.75</td>\n",
       "    </tr>\n",
       "  </tbody>\n",
       "</table>\n",
       "</div>"
      ],
      "text/plain": [
       "                      id_1                 id_2  score\n",
       "47019  5948098268056849786  1489534546038654382   0.50\n",
       "67160  1444471203054691758    30359730352438702   1.00\n",
       "51793  1687686739764616622  3714302657193532846   0.00\n",
       "123    1462507362235565419  3804367760910527918   0.10\n",
       "21108    12324978793823662  3525151472894434734   0.75"
      ]
     },
     "execution_count": 2,
     "metadata": {},
     "output_type": "execute_result"
    }
   ],
   "source": [
    "pairwise_score_sample = pairwise_score.sample(frac=1)\n",
    "pairwise_score_sample.head()"
   ]
  },
  {
   "cell_type": "code",
   "execution_count": 5,
   "metadata": {},
   "outputs": [],
   "source": [
    "rate=0.4\n",
    "p_len = len(pairwise_score_sample)\n",
    "train_set = pairwise_score_sample[:int(p_len*0.4)]"
   ]
  },
  {
   "cell_type": "code",
   "execution_count": 39,
   "metadata": {},
   "outputs": [
    {
     "data": {
      "text/html": [
       "<div>\n",
       "<style scoped>\n",
       "    .dataframe tbody tr th:only-of-type {\n",
       "        vertical-align: middle;\n",
       "    }\n",
       "\n",
       "    .dataframe tbody tr th {\n",
       "        vertical-align: top;\n",
       "    }\n",
       "\n",
       "    .dataframe thead th {\n",
       "        text-align: right;\n",
       "    }\n",
       "</style>\n",
       "<table border=\"1\" class=\"dataframe\">\n",
       "  <thead>\n",
       "    <tr style=\"text-align: right;\">\n",
       "      <th></th>\n",
       "      <th>id_1</th>\n",
       "      <th>id_2</th>\n",
       "      <th>score</th>\n",
       "      <th>g_id</th>\n",
       "      <th>fold</th>\n",
       "    </tr>\n",
       "  </thead>\n",
       "  <tbody>\n",
       "    <tr>\n",
       "      <th>0</th>\n",
       "      <td>2345203561710400875</td>\n",
       "      <td>5344606281729891758</td>\n",
       "      <td>1.00</td>\n",
       "      <td>0</td>\n",
       "      <td>0</td>\n",
       "    </tr>\n",
       "    <tr>\n",
       "      <th>1</th>\n",
       "      <td>759945328762912122</td>\n",
       "      <td>5560784129870034298</td>\n",
       "      <td>0.85</td>\n",
       "      <td>1</td>\n",
       "      <td>4</td>\n",
       "    </tr>\n",
       "    <tr>\n",
       "      <th>2</th>\n",
       "      <td>2336209090533711226</td>\n",
       "      <td>8010747189096226170</td>\n",
       "      <td>1.00</td>\n",
       "      <td>2</td>\n",
       "      <td>3</td>\n",
       "    </tr>\n",
       "    <tr>\n",
       "      <th>3</th>\n",
       "      <td>2588403135132530094</td>\n",
       "      <td>5380633252649788846</td>\n",
       "      <td>0.25</td>\n",
       "      <td>0</td>\n",
       "      <td>0</td>\n",
       "    </tr>\n",
       "    <tr>\n",
       "      <th>4</th>\n",
       "      <td>3245934094259209594</td>\n",
       "      <td>120437073895839098</td>\n",
       "      <td>1.00</td>\n",
       "      <td>3</td>\n",
       "      <td>3</td>\n",
       "    </tr>\n",
       "    <tr>\n",
       "      <th>...</th>\n",
       "      <td>...</td>\n",
       "      <td>...</td>\n",
       "      <td>...</td>\n",
       "      <td>...</td>\n",
       "      <td>...</td>\n",
       "    </tr>\n",
       "    <tr>\n",
       "      <th>67894</th>\n",
       "      <td>3750336164790283694</td>\n",
       "      <td>6578593639340324218</td>\n",
       "      <td>0.50</td>\n",
       "      <td>22038</td>\n",
       "      <td>2</td>\n",
       "    </tr>\n",
       "    <tr>\n",
       "      <th>67895</th>\n",
       "      <td>4587992807793958251</td>\n",
       "      <td>3651241564586845614</td>\n",
       "      <td>0.05</td>\n",
       "      <td>0</td>\n",
       "      <td>0</td>\n",
       "    </tr>\n",
       "    <tr>\n",
       "      <th>67896</th>\n",
       "      <td>4939290286258343342</td>\n",
       "      <td>2750529751830584750</td>\n",
       "      <td>0.00</td>\n",
       "      <td>22039</td>\n",
       "      <td>4</td>\n",
       "    </tr>\n",
       "    <tr>\n",
       "      <th>67897</th>\n",
       "      <td>7461297012077098362</td>\n",
       "      <td>5939084830845425070</td>\n",
       "      <td>1.00</td>\n",
       "      <td>401</td>\n",
       "      <td>1</td>\n",
       "    </tr>\n",
       "    <tr>\n",
       "      <th>67898</th>\n",
       "      <td>1732719335966508462</td>\n",
       "      <td>7695458834097743278</td>\n",
       "      <td>0.15</td>\n",
       "      <td>0</td>\n",
       "      <td>0</td>\n",
       "    </tr>\n",
       "  </tbody>\n",
       "</table>\n",
       "<p>67899 rows × 5 columns</p>\n",
       "</div>"
      ],
      "text/plain": [
       "                      id_1                 id_2  score   g_id  fold\n",
       "0      2345203561710400875  5344606281729891758   1.00      0     0\n",
       "1       759945328762912122  5560784129870034298   0.85      1     4\n",
       "2      2336209090533711226  8010747189096226170   1.00      2     3\n",
       "3      2588403135132530094  5380633252649788846   0.25      0     0\n",
       "4      3245934094259209594   120437073895839098   1.00      3     3\n",
       "...                    ...                  ...    ...    ...   ...\n",
       "67894  3750336164790283694  6578593639340324218   0.50  22038     2\n",
       "67895  4587992807793958251  3651241564586845614   0.05      0     0\n",
       "67896  4939290286258343342  2750529751830584750   0.00  22039     4\n",
       "67897  7461297012077098362  5939084830845425070   1.00    401     1\n",
       "67898  1732719335966508462  7695458834097743278   0.15      0     0\n",
       "\n",
       "[67899 rows x 5 columns]"
      ]
     },
     "execution_count": 39,
     "metadata": {},
     "output_type": "execute_result"
    }
   ],
   "source": [
    "k_fold = pd.merge(left=pairwise_score, right=g_info, how='left', left_on='id_1', right_on='id')\n",
    "k_fold = k_fold.drop(['id'], axis=1)\n",
    "def find_k (x):\n",
    "    k = -1\n",
    "    for k, item in enumerate(end):\n",
    "        if x in item:\n",
    "            return k\n",
    "k_fold['fold']= k_fold['g_id'].apply(lambda x : find_k(x))\n",
    "k_fold"
   ]
  },
  {
   "cell_type": "code",
   "execution_count": 44,
   "metadata": {},
   "outputs": [],
   "source": [
    "k_fold.to_csv('result/k_fold.csv')"
   ]
  },
  {
   "cell_type": "code",
   "execution_count": 2,
   "metadata": {},
   "outputs": [
    {
     "data": {
      "text/plain": [
       "<AxesSubplot:>"
      ]
     },
     "execution_count": 2,
     "metadata": {},
     "output_type": "execute_result"
    },
    {
     "data": {
      "image/png": "[encoded data removed]",
      "text/plain": [
       "<Figure size 432x288 with 1 Axes>"
      ]
     },
     "metadata": {
      "needs_background": "light"
     },
     "output_type": "display_data"
    }
   ],
   "source": [
    "import pandas as pd\n",
    "pd.read_csv('result/k_fold.csv')['fold'].hist()"
   ]
  }
 ],
 "metadata": {
  "interpreter": {
   "hash": "bd84cb099b5853e994521b5fc3d31858ed77b92f95ab2fb7ec710c06d2963baf"
  },
  "kernelspec": {
   "display_name": "Python 3.8.5 64-bit ('.venv': venv)",
   "name": "python3"
  },
  "language_info": {
   "codemirror_mode": {
    "name": "ipython",
    "version": 3
   },
   "file_extension": ".py",
   "mimetype": "text/x-python",
   "name": "python",
   "nbconvert_exporter": "python",
   "pygments_lexer": "ipython3",
   "version": "3.8.5"
  },
  "orig_nbformat": 4
 },
 "nbformat": 4,
 "nbformat_minor": 2
}
